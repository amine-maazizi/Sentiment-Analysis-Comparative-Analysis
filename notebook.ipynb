{
 "cells": [
  {
   "cell_type": "markdown",
   "metadata": {},
   "source": [
    "# Analyse Des Sentiments : Étude Comparative\n",
    "\n",
    "## Objectif\n",
    "Ce projet vise à comparer les performances de différents modèles de Machine Learning et de Deep Learning pour la tâche d'analyse de sentiments. Nous explorerons des modèles classiques (e.g., régression logistique, forêts aléatoires) ainsi que des architectures plus avancées (e.g., réseaux de neurones, LLMs). L'objectif est d'identifier le modèle le plus performant pour la classification des sentiments (positif, négatif, neutre) sur un jeu de données textuelles.\n",
    "\n",
    "---\n",
    "\n",
    "## Plan du Notebook\n",
    "1. **Installation des bibliothèques**\n",
    "2. **Chargement des données**\n",
    "3. **Prétraitement des données**\n",
    "4. **Analyse exploratoire des données (EDA)**\n",
    "5. **Ingénierie des caractéristiques (Feature Engineering)**\n",
    "6. **Entraînement et évaluation des modèles**\n",
    "\n",
    "---\n",
    "\n",
    "## 1. Installation des bibliothèques"
   ]
  },
  {
   "cell_type": "code",
   "execution_count": 2,
   "metadata": {},
   "outputs": [
    {
     "name": "stdout",
     "output_type": "stream",
     "text": [
      "Requirement already satisfied: textblob in c:\\users\\amine\\appdata\\local\\programs\\python\\python312\\lib\\site-packages (0.19.0)\n",
      "Requirement already satisfied: wordcloud in c:\\users\\amine\\appdata\\local\\programs\\python\\python312\\lib\\site-packages (1.9.4)\n",
      "Requirement already satisfied: imblearn in c:\\users\\amine\\appdata\\local\\programs\\python\\python312\\lib\\site-packages (0.0)\n",
      "Requirement already satisfied: transformers in c:\\users\\amine\\appdata\\local\\programs\\python\\python312\\lib\\site-packages (4.48.1)\n",
      "Requirement already satisfied: peft in c:\\users\\amine\\appdata\\local\\programs\\python\\python312\\lib\\site-packages (0.14.0)\n",
      "Requirement already satisfied: datasets in c:\\users\\amine\\appdata\\local\\programs\\python\\python312\\lib\\site-packages (3.2.0)\n",
      "Requirement already satisfied: accelerate in c:\\users\\amine\\appdata\\local\\programs\\python\\python312\\lib\\site-packages (1.3.0)\n",
      "Requirement already satisfied: bitsandbytes in c:\\users\\amine\\appdata\\local\\programs\\python\\python312\\lib\\site-packages (0.45.1)\n",
      "Requirement already satisfied: torch in c:\\users\\amine\\appdata\\local\\programs\\python\\python312\\lib\\site-packages (2.5.1+cu121)\n",
      "Requirement already satisfied: ollama in c:\\users\\amine\\appdata\\local\\programs\\python\\python312\\lib\\site-packages (0.4.7)\n",
      "Requirement already satisfied: nltk>=3.9 in c:\\users\\amine\\appdata\\local\\programs\\python\\python312\\lib\\site-packages (from textblob) (3.9.1)\n",
      "Requirement already satisfied: numpy>=1.6.1 in c:\\users\\amine\\appdata\\local\\programs\\python\\python312\\lib\\site-packages (from wordcloud) (2.2.0)\n",
      "Requirement already satisfied: pillow in c:\\users\\amine\\appdata\\local\\programs\\python\\python312\\lib\\site-packages (from wordcloud) (11.0.0)\n",
      "Requirement already satisfied: matplotlib in c:\\users\\amine\\appdata\\local\\programs\\python\\python312\\lib\\site-packages (from wordcloud) (3.9.3)\n",
      "Requirement already satisfied: imbalanced-learn in c:\\users\\amine\\appdata\\local\\programs\\python\\python312\\lib\\site-packages (from imblearn) (0.13.0)\n",
      "Requirement already satisfied: filelock in c:\\users\\amine\\appdata\\local\\programs\\python\\python312\\lib\\site-packages (from transformers) (3.16.1)\n",
      "Requirement already satisfied: huggingface-hub<1.0,>=0.24.0 in c:\\users\\amine\\appdata\\local\\programs\\python\\python312\\lib\\site-packages (from transformers) (0.27.0)\n",
      "Requirement already satisfied: packaging>=20.0 in c:\\users\\amine\\appdata\\local\\programs\\python\\python312\\lib\\site-packages (from transformers) (24.2)\n",
      "Requirement already satisfied: pyyaml>=5.1 in c:\\users\\amine\\appdata\\local\\programs\\python\\python312\\lib\\site-packages (from transformers) (6.0.2)\n",
      "Requirement already satisfied: regex!=2019.12.17 in c:\\users\\amine\\appdata\\local\\programs\\python\\python312\\lib\\site-packages (from transformers) (2024.11.6)\n",
      "Requirement already satisfied: requests in c:\\users\\amine\\appdata\\local\\programs\\python\\python312\\lib\\site-packages (from transformers) (2.32.3)\n",
      "Requirement already satisfied: tokenizers<0.22,>=0.21 in c:\\users\\amine\\appdata\\local\\programs\\python\\python312\\lib\\site-packages (from transformers) (0.21.0)\n",
      "Requirement already satisfied: safetensors>=0.4.1 in c:\\users\\amine\\appdata\\local\\programs\\python\\python312\\lib\\site-packages (from transformers) (0.4.5)\n",
      "Requirement already satisfied: tqdm>=4.27 in c:\\users\\amine\\appdata\\local\\programs\\python\\python312\\lib\\site-packages (from transformers) (4.67.1)\n",
      "Requirement already satisfied: psutil in c:\\users\\amine\\appdata\\roaming\\python\\python312\\site-packages (from peft) (6.1.0)\n",
      "Requirement already satisfied: pyarrow>=15.0.0 in c:\\users\\amine\\appdata\\local\\programs\\python\\python312\\lib\\site-packages (from datasets) (19.0.0)\n",
      "Requirement already satisfied: dill<0.3.9,>=0.3.0 in c:\\users\\amine\\appdata\\local\\programs\\python\\python312\\lib\\site-packages (from datasets) (0.3.8)\n",
      "Requirement already satisfied: pandas in c:\\users\\amine\\appdata\\local\\programs\\python\\python312\\lib\\site-packages (from datasets) (2.2.3)\n",
      "Requirement already satisfied: xxhash in c:\\users\\amine\\appdata\\local\\programs\\python\\python312\\lib\\site-packages (from datasets) (3.5.0)\n",
      "Requirement already satisfied: multiprocess<0.70.17 in c:\\users\\amine\\appdata\\local\\programs\\python\\python312\\lib\\site-packages (from datasets) (0.70.16)\n",
      "Requirement already satisfied: fsspec<=2024.9.0,>=2023.1.0 in c:\\users\\amine\\appdata\\local\\programs\\python\\python312\\lib\\site-packages (from fsspec[http]<=2024.9.0,>=2023.1.0->datasets) (2024.9.0)\n",
      "Requirement already satisfied: aiohttp in c:\\users\\amine\\appdata\\local\\programs\\python\\python312\\lib\\site-packages (from datasets) (3.11.11)\n",
      "Requirement already satisfied: typing-extensions>=4.8.0 in c:\\users\\amine\\appdata\\local\\programs\\python\\python312\\lib\\site-packages (from torch) (4.12.2)\n",
      "Requirement already satisfied: networkx in c:\\users\\amine\\appdata\\local\\programs\\python\\python312\\lib\\site-packages (from torch) (3.4.2)\n",
      "Requirement already satisfied: jinja2 in c:\\users\\amine\\appdata\\local\\programs\\python\\python312\\lib\\site-packages (from torch) (3.1.4)\n",
      "Requirement already satisfied: setuptools in c:\\users\\amine\\appdata\\local\\programs\\python\\python312\\lib\\site-packages (from torch) (75.6.0)\n",
      "Requirement already satisfied: sympy==1.13.1 in c:\\users\\amine\\appdata\\local\\programs\\python\\python312\\lib\\site-packages (from torch) (1.13.1)\n",
      "Requirement already satisfied: mpmath<1.4,>=1.1.0 in c:\\users\\amine\\appdata\\local\\programs\\python\\python312\\lib\\site-packages (from sympy==1.13.1->torch) (1.3.0)\n",
      "Requirement already satisfied: httpx<0.29,>=0.27 in c:\\users\\amine\\appdata\\local\\programs\\python\\python312\\lib\\site-packages (from ollama) (0.28.1)\n",
      "Requirement already satisfied: pydantic<3.0.0,>=2.9.0 in c:\\users\\amine\\appdata\\local\\programs\\python\\python312\\lib\\site-packages (from ollama) (2.10.6)\n",
      "Requirement already satisfied: aiohappyeyeballs>=2.3.0 in c:\\users\\amine\\appdata\\local\\programs\\python\\python312\\lib\\site-packages (from aiohttp->datasets) (2.4.4)\n",
      "Requirement already satisfied: aiosignal>=1.1.2 in c:\\users\\amine\\appdata\\local\\programs\\python\\python312\\lib\\site-packages (from aiohttp->datasets) (1.3.2)\n",
      "Requirement already satisfied: attrs>=17.3.0 in c:\\users\\amine\\appdata\\local\\programs\\python\\python312\\lib\\site-packages (from aiohttp->datasets) (25.1.0)\n",
      "Requirement already satisfied: frozenlist>=1.1.1 in c:\\users\\amine\\appdata\\local\\programs\\python\\python312\\lib\\site-packages (from aiohttp->datasets) (1.5.0)\n",
      "Requirement already satisfied: multidict<7.0,>=4.5 in c:\\users\\amine\\appdata\\local\\programs\\python\\python312\\lib\\site-packages (from aiohttp->datasets) (6.1.0)\n",
      "Requirement already satisfied: propcache>=0.2.0 in c:\\users\\amine\\appdata\\local\\programs\\python\\python312\\lib\\site-packages (from aiohttp->datasets) (0.2.1)\n",
      "Requirement already satisfied: yarl<2.0,>=1.17.0 in c:\\users\\amine\\appdata\\local\\programs\\python\\python312\\lib\\site-packages (from aiohttp->datasets) (1.18.3)\n",
      "Requirement already satisfied: anyio in c:\\users\\amine\\appdata\\local\\programs\\python\\python312\\lib\\site-packages (from httpx<0.29,>=0.27->ollama) (4.8.0)\n",
      "Requirement already satisfied: certifi in c:\\users\\amine\\appdata\\local\\programs\\python\\python312\\lib\\site-packages (from httpx<0.29,>=0.27->ollama) (2024.12.14)\n",
      "Requirement already satisfied: httpcore==1.* in c:\\users\\amine\\appdata\\local\\programs\\python\\python312\\lib\\site-packages (from httpx<0.29,>=0.27->ollama) (1.0.7)\n",
      "Requirement already satisfied: idna in c:\\users\\amine\\appdata\\local\\programs\\python\\python312\\lib\\site-packages (from httpx<0.29,>=0.27->ollama) (3.10)\n",
      "Requirement already satisfied: h11<0.15,>=0.13 in c:\\users\\amine\\appdata\\local\\programs\\python\\python312\\lib\\site-packages (from httpcore==1.*->httpx<0.29,>=0.27->ollama) (0.14.0)\n",
      "Requirement already satisfied: click in c:\\users\\amine\\appdata\\local\\programs\\python\\python312\\lib\\site-packages (from nltk>=3.9->textblob) (8.1.8)\n",
      "Requirement already satisfied: joblib in c:\\users\\amine\\appdata\\local\\programs\\python\\python312\\lib\\site-packages (from nltk>=3.9->textblob) (1.4.2)\n",
      "Requirement already satisfied: annotated-types>=0.6.0 in c:\\users\\amine\\appdata\\local\\programs\\python\\python312\\lib\\site-packages (from pydantic<3.0.0,>=2.9.0->ollama) (0.7.0)\n",
      "Requirement already satisfied: pydantic-core==2.27.2 in c:\\users\\amine\\appdata\\local\\programs\\python\\python312\\lib\\site-packages (from pydantic<3.0.0,>=2.9.0->ollama) (2.27.2)\n",
      "Requirement already satisfied: charset-normalizer<4,>=2 in c:\\users\\amine\\appdata\\local\\programs\\python\\python312\\lib\\site-packages (from requests->transformers) (3.4.0)\n",
      "Requirement already satisfied: urllib3<3,>=1.21.1 in c:\\users\\amine\\appdata\\local\\programs\\python\\python312\\lib\\site-packages (from requests->transformers) (2.2.3)\n",
      "Requirement already satisfied: colorama in c:\\users\\amine\\appdata\\roaming\\python\\python312\\site-packages (from tqdm>=4.27->transformers) (0.4.6)\n",
      "Requirement already satisfied: scipy<2,>=1.10.1 in c:\\users\\amine\\appdata\\local\\programs\\python\\python312\\lib\\site-packages (from imbalanced-learn->imblearn) (1.15.0)\n",
      "Requirement already satisfied: scikit-learn<2,>=1.3.2 in c:\\users\\amine\\appdata\\local\\programs\\python\\python312\\lib\\site-packages (from imbalanced-learn->imblearn) (1.6.0)\n",
      "Requirement already satisfied: sklearn-compat<1,>=0.1 in c:\\users\\amine\\appdata\\local\\programs\\python\\python312\\lib\\site-packages (from imbalanced-learn->imblearn) (0.1.3)\n",
      "Requirement already satisfied: threadpoolctl<4,>=2.0.0 in c:\\users\\amine\\appdata\\local\\programs\\python\\python312\\lib\\site-packages (from imbalanced-learn->imblearn) (3.5.0)\n",
      "Requirement already satisfied: MarkupSafe>=2.0 in c:\\users\\amine\\appdata\\local\\programs\\python\\python312\\lib\\site-packages (from jinja2->torch) (3.0.2)\n",
      "Requirement already satisfied: contourpy>=1.0.1 in c:\\users\\amine\\appdata\\local\\programs\\python\\python312\\lib\\site-packages (from matplotlib->wordcloud) (1.3.1)\n",
      "Requirement already satisfied: cycler>=0.10 in c:\\users\\amine\\appdata\\local\\programs\\python\\python312\\lib\\site-packages (from matplotlib->wordcloud) (0.12.1)\n",
      "Requirement already satisfied: fonttools>=4.22.0 in c:\\users\\amine\\appdata\\local\\programs\\python\\python312\\lib\\site-packages (from matplotlib->wordcloud) (4.55.3)\n",
      "Requirement already satisfied: kiwisolver>=1.3.1 in c:\\users\\amine\\appdata\\local\\programs\\python\\python312\\lib\\site-packages (from matplotlib->wordcloud) (1.4.7)\n",
      "Requirement already satisfied: pyparsing>=2.3.1 in c:\\users\\amine\\appdata\\local\\programs\\python\\python312\\lib\\site-packages (from matplotlib->wordcloud) (3.2.0)\n",
      "Requirement already satisfied: python-dateutil>=2.7 in c:\\users\\amine\\appdata\\local\\programs\\python\\python312\\lib\\site-packages (from matplotlib->wordcloud) (2.9.0.post0)\n",
      "Requirement already satisfied: pytz>=2020.1 in c:\\users\\amine\\appdata\\local\\programs\\python\\python312\\lib\\site-packages (from pandas->datasets) (2024.2)\n",
      "Requirement already satisfied: tzdata>=2022.7 in c:\\users\\amine\\appdata\\local\\programs\\python\\python312\\lib\\site-packages (from pandas->datasets) (2024.2)\n",
      "Requirement already satisfied: six>=1.5 in c:\\users\\amine\\appdata\\local\\programs\\python\\python312\\lib\\site-packages (from python-dateutil>=2.7->matplotlib->wordcloud) (1.17.0)\n",
      "Requirement already satisfied: sniffio>=1.1 in c:\\users\\amine\\appdata\\local\\programs\\python\\python312\\lib\\site-packages (from anyio->httpx<0.29,>=0.27->ollama) (1.3.1)\n"
     ]
    },
    {
     "name": "stderr",
     "output_type": "stream",
     "text": [
      "\n",
      "[notice] A new release of pip is available: 24.3.1 -> 25.0\n",
      "[notice] To update, run: python.exe -m pip install --upgrade pip\n"
     ]
    }
   ],
   "source": [
    "# Installation des dépendances\n",
    "!pip install textblob wordcloud imblearn transformers peft datasets accelerate bitsandbytes torch ollama"
   ]
  },
  {
   "cell_type": "code",
   "execution_count": 3,
   "metadata": {},
   "outputs": [
    {
     "name": "stderr",
     "output_type": "stream",
     "text": [
      "c:\\Users\\amine\\AppData\\Local\\Programs\\Python\\Python312\\Lib\\site-packages\\tqdm\\auto.py:21: TqdmWarning: IProgress not found. Please update jupyter and ipywidgets. See https://ipywidgets.readthedocs.io/en/stable/user_install.html\n",
      "  from .autonotebook import tqdm as notebook_tqdm\n",
      "[nltk_data] Downloading package punkt to\n",
      "[nltk_data]     C:\\Users\\amine\\AppData\\Roaming\\nltk_data...\n",
      "[nltk_data]   Package punkt is already up-to-date!\n",
      "[nltk_data] Downloading package stopwords to\n",
      "[nltk_data]     C:\\Users\\amine\\AppData\\Roaming\\nltk_data...\n",
      "[nltk_data]   Package stopwords is already up-to-date!\n",
      "[nltk_data] Downloading package wordnet to\n",
      "[nltk_data]     C:\\Users\\amine\\AppData\\Roaming\\nltk_data...\n",
      "[nltk_data]   Package wordnet is already up-to-date!\n"
     ]
    }
   ],
   "source": [
    "# Utilité\n",
    "import random\n",
    "import os\n",
    "\n",
    "# Data \n",
    "import kagglehub\n",
    "\n",
    "# Data analysis\n",
    "import pandas as pd\n",
    "import numpy as np\n",
    "import matplotlib.pyplot as plt\n",
    "\n",
    "# NLP\n",
    "import string\n",
    "import re\n",
    "import nltk\n",
    "import nltk.corpus\n",
    "nltk.download(\"punkt\")\n",
    "nltk.download(\"stopwords\")\n",
    "nltk.download(\"wordnet\")\n",
    "from nltk.stem import WordNetLemmatizer\n",
    "from transformers import BertTokenizer, BertModel\n",
    "\n",
    "\n",
    "# EDA analysis\n",
    "from textblob import TextBlob\n",
    "from sklearn.feature_extraction.text import CountVectorizer\n",
    "from wordcloud import WordCloud\n",
    "\n",
    "# Feature Engineering\n",
    "from sklearn.preprocessing import LabelEncoder\n",
    "from sklearn.feature_extraction.text import TfidfVectorizer\n",
    "from imblearn.over_sampling import SMOTE\n",
    "from collections import Counter\n",
    "from sklearn.model_selection import train_test_split\n",
    "\n",
    "# Models ML\n",
    "from sklearn.svm import SVC\n",
    "from sklearn.tree import DecisionTreeClassifier\n",
    "from sklearn.linear_model import LogisticRegression\n",
    "from sklearn.ensemble import RandomForestClassifier\n",
    "from sklearn.naive_bayes import BernoulliNB\n",
    "from sklearn.neighbors import KNeighborsClassifier\n",
    "\n",
    "\n",
    "# Evaluation et Tuning\n",
    "from sklearn.model_selection import cross_val_score\n",
    "\n",
    "# Model Building\n",
    "from sklearn.svm import SVC\n",
    "from sklearn.tree import DecisionTreeClassifier\n",
    "from sklearn.linear_model import LogisticRegression\n",
    "from sklearn.ensemble import RandomForestClassifier\n",
    "from sklearn.naive_bayes import BernoulliNB\n",
    "from sklearn.neighbors import KNeighborsClassifier\n",
    "from sklearn.model_selection import cross_val_score\n",
    "\n",
    "# Neural Networks\n",
    "import torch\n",
    "from torch import nn\n",
    "from torch.utils.data import Dataset, DataLoader\n",
    "from sklearn.model_selection import KFold\n",
    "from sklearn.preprocessing import StandardScaler\n",
    "\n",
    "# Hyperparameter Tuning\n",
    "from sklearn.model_selection import GridSearchCV\n",
    "from sklearn.model_selection import RandomizedSearchCV\n",
    "\n",
    "\n",
    "# Model Metrics\n",
    "from sklearn.metrics import confusion_matrix, accuracy_score, classification_report"
   ]
  },
  {
   "cell_type": "markdown",
   "metadata": {},
   "source": [
    "## 2. Chargement des données"
   ]
  },
  {
   "cell_type": "code",
   "execution_count": 4,
   "metadata": {},
   "outputs": [
    {
     "name": "stdout",
     "output_type": "stream",
     "text": [
      "Dataset importé avec succès\n",
      "Train shape: (27481, 10), Test shape: (4815, 9)\n"
     ]
    },
    {
     "data": {
      "text/html": [
       "<div>\n",
       "<style scoped>\n",
       "    .dataframe tbody tr th:only-of-type {\n",
       "        vertical-align: middle;\n",
       "    }\n",
       "\n",
       "    .dataframe tbody tr th {\n",
       "        vertical-align: top;\n",
       "    }\n",
       "\n",
       "    .dataframe thead th {\n",
       "        text-align: right;\n",
       "    }\n",
       "</style>\n",
       "<table border=\"1\" class=\"dataframe\">\n",
       "  <thead>\n",
       "    <tr style=\"text-align: right;\">\n",
       "      <th></th>\n",
       "      <th>textID</th>\n",
       "      <th>text</th>\n",
       "      <th>selected_text</th>\n",
       "      <th>sentiment</th>\n",
       "      <th>Time of Tweet</th>\n",
       "      <th>Age of User</th>\n",
       "      <th>Country</th>\n",
       "      <th>Population -2020</th>\n",
       "      <th>Land Area (Km²)</th>\n",
       "      <th>Density (P/Km²)</th>\n",
       "    </tr>\n",
       "  </thead>\n",
       "  <tbody>\n",
       "    <tr>\n",
       "      <th>0</th>\n",
       "      <td>cb774db0d1</td>\n",
       "      <td>I`d have responded, if I were going</td>\n",
       "      <td>I`d have responded, if I were going</td>\n",
       "      <td>neutral</td>\n",
       "      <td>morning</td>\n",
       "      <td>0-20</td>\n",
       "      <td>Afghanistan</td>\n",
       "      <td>38928346</td>\n",
       "      <td>652860.0</td>\n",
       "      <td>60</td>\n",
       "    </tr>\n",
       "    <tr>\n",
       "      <th>1</th>\n",
       "      <td>549e992a42</td>\n",
       "      <td>Sooo SAD I will miss you here in San Diego!!!</td>\n",
       "      <td>Sooo SAD</td>\n",
       "      <td>negative</td>\n",
       "      <td>noon</td>\n",
       "      <td>21-30</td>\n",
       "      <td>Albania</td>\n",
       "      <td>2877797</td>\n",
       "      <td>27400.0</td>\n",
       "      <td>105</td>\n",
       "    </tr>\n",
       "    <tr>\n",
       "      <th>2</th>\n",
       "      <td>088c60f138</td>\n",
       "      <td>my boss is bullying me...</td>\n",
       "      <td>bullying me</td>\n",
       "      <td>negative</td>\n",
       "      <td>night</td>\n",
       "      <td>31-45</td>\n",
       "      <td>Algeria</td>\n",
       "      <td>43851044</td>\n",
       "      <td>2381740.0</td>\n",
       "      <td>18</td>\n",
       "    </tr>\n",
       "    <tr>\n",
       "      <th>3</th>\n",
       "      <td>9642c003ef</td>\n",
       "      <td>what interview! leave me alone</td>\n",
       "      <td>leave me alone</td>\n",
       "      <td>negative</td>\n",
       "      <td>morning</td>\n",
       "      <td>46-60</td>\n",
       "      <td>Andorra</td>\n",
       "      <td>77265</td>\n",
       "      <td>470.0</td>\n",
       "      <td>164</td>\n",
       "    </tr>\n",
       "    <tr>\n",
       "      <th>4</th>\n",
       "      <td>358bd9e861</td>\n",
       "      <td>Sons of ****, why couldn`t they put them on t...</td>\n",
       "      <td>Sons of ****,</td>\n",
       "      <td>negative</td>\n",
       "      <td>noon</td>\n",
       "      <td>60-70</td>\n",
       "      <td>Angola</td>\n",
       "      <td>32866272</td>\n",
       "      <td>1246700.0</td>\n",
       "      <td>26</td>\n",
       "    </tr>\n",
       "  </tbody>\n",
       "</table>\n",
       "</div>"
      ],
      "text/plain": [
       "       textID                                               text  \\\n",
       "0  cb774db0d1                I`d have responded, if I were going   \n",
       "1  549e992a42      Sooo SAD I will miss you here in San Diego!!!   \n",
       "2  088c60f138                          my boss is bullying me...   \n",
       "3  9642c003ef                     what interview! leave me alone   \n",
       "4  358bd9e861   Sons of ****, why couldn`t they put them on t...   \n",
       "\n",
       "                         selected_text sentiment Time of Tweet Age of User  \\\n",
       "0  I`d have responded, if I were going   neutral       morning        0-20   \n",
       "1                             Sooo SAD  negative          noon       21-30   \n",
       "2                          bullying me  negative         night       31-45   \n",
       "3                       leave me alone  negative       morning       46-60   \n",
       "4                        Sons of ****,  negative          noon       60-70   \n",
       "\n",
       "       Country  Population -2020  Land Area (Km²)  Density (P/Km²)  \n",
       "0  Afghanistan          38928346         652860.0               60  \n",
       "1      Albania           2877797          27400.0              105  \n",
       "2      Algeria          43851044        2381740.0               18  \n",
       "3      Andorra             77265            470.0              164  \n",
       "4       Angola          32866272        1246700.0               26  "
      ]
     },
     "execution_count": 4,
     "metadata": {},
     "output_type": "execute_result"
    }
   ],
   "source": [
    "# Chargement des données\n",
    "path = kagglehub.dataset_download('abhi8923shriv/sentiment-analysis-dataset')\n",
    "train_dataset = path + '/train.csv'\n",
    "test_dataset = path + '/test.csv'\n",
    "\n",
    "if os.path.exists(train_dataset) and os.path.exists(test_dataset):\n",
    "    train_df = pd.read_csv(train_dataset, encoding='ISO-8859-1')\n",
    "    test_df = pd.read_csv(test_dataset, encoding='ISO-8859-1')\n",
    "    print(\"Dataset importé avec succès\")\n",
    "\n",
    "# Affichage des dimensions\n",
    "print(f\"Train shape: {train_df.shape}, Test shape: {test_df.shape}\")\n",
    "train_df.head()"
   ]
  },
  {
   "cell_type": "markdown",
   "metadata": {},
   "source": [
    "## 3. Prétraitement des données\n",
    "### 3.1 Gestion des valeurs manquantes\n",
    "Les valeurs manquantes sont supprimées car elles sont négligeables et ne permettent pas une imputation significative."
   ]
  },
  {
   "cell_type": "code",
   "execution_count": 5,
   "metadata": {},
   "outputs": [
    {
     "data": {
      "text/plain": [
       "(textID              0\n",
       " text                1\n",
       " selected_text       1\n",
       " sentiment           0\n",
       " Time of Tweet       0\n",
       " Age of User         0\n",
       " Country             0\n",
       " Population -2020    0\n",
       " Land Area (Km²)     0\n",
       " Density (P/Km²)     0\n",
       " dtype: int64,\n",
       " textID              1281\n",
       " text                1281\n",
       " sentiment           1281\n",
       " Time of Tweet       1281\n",
       " Age of User         1281\n",
       " Country             1281\n",
       " Population -2020    1281\n",
       " Land Area (Km²)     1281\n",
       " Density (P/Km²)     1281\n",
       " dtype: int64)"
      ]
     },
     "execution_count": 5,
     "metadata": {},
     "output_type": "execute_result"
    }
   ],
   "source": [
    "train_df.isnull().sum(), test_df.isnull().sum()"
   ]
  },
  {
   "cell_type": "code",
   "execution_count": 6,
   "metadata": {},
   "outputs": [],
   "source": [
    "train_df.dropna(inplace=True)\n",
    "test_df.dropna(inplace=True)"
   ]
  },
  {
   "cell_type": "markdown",
   "metadata": {},
   "source": [
    "### 3.2 Nettoyage du texte\n",
    "Le texte est nettoyé en supprimant les ponctuations, les chiffres, les liens, et en convertissant tout en minuscules."
   ]
  },
  {
   "cell_type": "code",
   "execution_count": 7,
   "metadata": {},
   "outputs": [
    {
     "name": "stderr",
     "output_type": "stream",
     "text": [
      "<>:6: SyntaxWarning: invalid escape sequence '\\S'\n",
      "<>:6: SyntaxWarning: invalid escape sequence '\\S'\n",
      "C:\\Users\\amine\\AppData\\Local\\Temp\\ipykernel_5276\\1115560726.py:6: SyntaxWarning: invalid escape sequence '\\S'\n",
      "  text = re.sub('https?://\\S+|www\\.\\S+', '', text)\n"
     ]
    }
   ],
   "source": [
    "def clean_text(text):\n",
    "    text = text.lower()\n",
    "    punc = str.maketrans(string.punctuation, ' ' * len(string.punctuation))\n",
    "    text = text.translate(punc)\n",
    "    text = re.sub(r'\\d+', '', text)\n",
    "    text = re.sub('https?://\\S+|www\\.\\S+', '', text)\n",
    "    text = re.sub('\\n', '', text)\n",
    "    return text\n",
    "\n",
    "# Application du nettoyage\n",
    "train_df[\"processed_text\"] = train_df[\"text\"].apply(clean_text)\n",
    "test_df[\"processed_text\"] = test_df[\"text\"].apply(clean_text)"
   ]
  },
  {
   "cell_type": "code",
   "execution_count": 8,
   "metadata": {},
   "outputs": [
    {
     "name": "stderr",
     "output_type": "stream",
     "text": [
      "[nltk_data] Downloading package stopwords to\n",
      "[nltk_data]     C:\\Users\\amine\\AppData\\Roaming\\nltk_data...\n",
      "[nltk_data]   Package stopwords is already up-to-date!\n"
     ]
    }
   ],
   "source": [
    "nltk.download(\"stopwords\")\n",
    "from nltk.corpus import stopwords\n",
    "\n",
    "stop_words = set(stopwords.words(\"english\")) - set([\"not\"])\n",
    "\n",
    "def remove_stopwords(text):\n",
    "    return \" \".join([word for word in text.split() if word not in stop_words])\n",
    "\n",
    "train_df[\"processed_text\"] = train_df[\"processed_text\"].apply(remove_stopwords)\n",
    "test_df[\"processed_text\"] = test_df[\"processed_text\"].apply(remove_stopwords)"
   ]
  },
  {
   "cell_type": "markdown",
   "metadata": {},
   "source": [
    "---\n",
    "\n",
    "## 4. Analyse exploratoire des données (EDA)\n",
    "### 4.1 Distribution des sentiments\n",
    "Nous visualisons la distribution des sentiments dans les ensembles d'entraînement et de test."
   ]
  },
  {
   "cell_type": "code",
   "execution_count": 9,
   "metadata": {},
   "outputs": [
    {
     "data": {
      "image/png": "[encoded data removed]",
      "text/plain": [
       "<Figure size 640x480 with 1 Axes>"
      ]
     },
     "metadata": {},
     "output_type": "display_data"
    }
   ],
   "source": [
    "# Distribution des sentiments\n",
    "train_df[\"sentiment\"].value_counts().plot(kind=\"bar\", color=\"blue\")\n",
    "plt.title(\"Distribution des sentiments (Train)\", fontsize=15)\n",
    "plt.xlabel(\"Sentiment\", fontsize=12)\n",
    "plt.ylabel(\"Nombre d'occurrences\", fontsize=12)\n",
    "plt.show()"
   ]
  },
  {
   "cell_type": "markdown",
   "metadata": {},
   "source": [
    "### 4.2 Longueur des textes et nombre de mots\n",
    "Nous analysons la longueur des textes et le nombre de mots pour comprendre la complexité des données."
   ]
  },
  {
   "cell_type": "code",
   "execution_count": 10,
   "metadata": {},
   "outputs": [
    {
     "data": {
      "image/png": "[encoded data removed]",
      "text/plain": [
       "<Figure size 640x480 with 1 Axes>"
      ]
     },
     "metadata": {},
     "output_type": "display_data"
    }
   ],
   "source": [
    "train_df[\"text_length\"] = train_df[\"processed_text\"].apply(len)\n",
    "\n",
    "train_df[\"text_length\"].plot(kind=\"hist\", bins=40, edgecolor=\"blue\", linewidth=1, color=\"orange\")\n",
    "plt.title(\"Longueur des textes\", fontsize=15)\n",
    "plt.xlabel(\"Longueur\", fontsize=12)\n",
    "plt.ylabel(\"Fréquence\", fontsize=12)\n",
    "plt.show()"
   ]
  },
  {
   "cell_type": "code",
   "execution_count": 11,
   "metadata": {},
   "outputs": [
    {
     "data": {
      "image/png": "[encoded data removed]",
      "text/plain": [
       "<Figure size 640x480 with 1 Axes>"
      ]
     },
     "metadata": {},
     "output_type": "display_data"
    }
   ],
   "source": [
    "train_df[\"word_count\"] = train_df[\"processed_text\"].apply(lambda x: len(str(x).split()))\n",
    "\n",
    "train_df[\"word_count\"].plot(kind=\"hist\", bins=40, edgecolor=\"blue\", linewidth=1, color=\"orange\")\n",
    "plt.title(\"Nombre de mots\", fontsize=15)\n",
    "plt.xlabel(\"Nombre\", fontsize=12)\n",
    "plt.ylabel(\"Fréquence\", fontsize=12)\n",
    "plt.show()"
   ]
  },
  {
   "cell_type": "markdown",
   "metadata": {},
   "source": [
    "### 4.3 Polarité des entrées\n",
    "le polarity score est une valeur numérique, calculée par la bibliothèque TextBlob, qui mesure le sentiment d'un texte. Ce score appartient à l'intervalle [−1,1] et indique le degré de positivité, de négativité ou de neutralité du texte.\n"
   ]
  },
  {
   "cell_type": "code",
   "execution_count": 12,
   "metadata": {},
   "outputs": [],
   "source": [
    "train_df[\"polarity\"] = train_df[\"processed_text\"].map(lambda Text: TextBlob(Text).sentiment.polarity)"
   ]
  },
  {
   "cell_type": "code",
   "execution_count": 13,
   "metadata": {},
   "outputs": [],
   "source": [
    "test_df[\"polarity\"] = test_df[\"processed_text\"].map(lambda Text: TextBlob(Text).sentiment.polarity)"
   ]
  },
  {
   "cell_type": "code",
   "execution_count": 14,
   "metadata": {},
   "outputs": [
    {
     "data": {
      "image/png": "[encoded data removed]",
      "text/plain": [
       "<Figure size 1000x500 with 1 Axes>"
      ]
     },
     "metadata": {},
     "output_type": "display_data"
    }
   ],
   "source": [
    "train_df[\"polarity\"].plot(kind = \"hist\", bins = 40, edgecolor = \"blue\", linewidth = 1, color = \"orange\", figsize = (10,5))\n",
    "plt.title(\"Polarity Score in Reviews\", color = \"blue\", pad = 20)\n",
    "plt.xlabel(\"Polarity\", labelpad = 15, color = \"red\")\n",
    "plt.ylabel(\"Amount of Reviews\", labelpad = 20, color = \"green\")\n",
    "plt.savefig(\"plots/polarity_train.png\", dpi=300, bbox_inches='tight')"
   ]
  },
  {
   "cell_type": "code",
   "execution_count": 15,
   "metadata": {},
   "outputs": [
    {
     "data": {
      "image/png": "[encoded data removed]",
      "text/plain": [
       "<Figure size 1000x500 with 1 Axes>"
      ]
     },
     "metadata": {},
     "output_type": "display_data"
    }
   ],
   "source": [
    "test_df[\"polarity\"].plot(kind = \"hist\", bins = 40, edgecolor = \"blue\", linewidth = 1, color = \"orange\", figsize = (10,5))\n",
    "plt.title(\"Polarity Score in Reviews\", color = \"blue\", pad = 20)\n",
    "plt.xlabel(\"Polarity\", labelpad = 15, color = \"red\")\n",
    "plt.ylabel(\"Amount of Reviews\", labelpad = 20, color = \"green\")\n",
    "plt.savefig(\"plots/polarity_test.png\", dpi=300, bbox_inches='tight')"
   ]
  },
  {
   "cell_type": "markdown",
   "metadata": {},
   "source": [
    "---\n",
    "\n",
    "## 5. Ingénierie des caractéristiques (Feature Engineering)\n",
    "### 5.1 Encodage des labels\n",
    "Les labels de sentiment sont encodés en valeurs numériques."
   ]
  },
  {
   "cell_type": "code",
   "execution_count": 16,
   "metadata": {},
   "outputs": [],
   "source": [
    "# Encodage des labels\n",
    "label_encoder = LabelEncoder()\n",
    "train_df[\"sentiment\"] = label_encoder.fit_transform(train_df[\"sentiment\"])\n",
    "test_df[\"sentiment\"] = label_encoder.transform(test_df[\"sentiment\"])"
   ]
  },
  {
   "cell_type": "markdown",
   "metadata": {},
   "source": [
    "### 5.2 Selection des features\n",
    "On choisira `processed_text` comme entrée et `sentiment` comme sortie"
   ]
  },
  {
   "cell_type": "code",
   "execution_count": 17,
   "metadata": {},
   "outputs": [
    {
     "data": {
      "text/html": [
       "<div>\n",
       "<style scoped>\n",
       "    .dataframe tbody tr th:only-of-type {\n",
       "        vertical-align: middle;\n",
       "    }\n",
       "\n",
       "    .dataframe tbody tr th {\n",
       "        vertical-align: top;\n",
       "    }\n",
       "\n",
       "    .dataframe thead th {\n",
       "        text-align: right;\n",
       "    }\n",
       "</style>\n",
       "<table border=\"1\" class=\"dataframe\">\n",
       "  <thead>\n",
       "    <tr style=\"text-align: right;\">\n",
       "      <th></th>\n",
       "      <th>processed_text</th>\n",
       "      <th>sentiment</th>\n",
       "    </tr>\n",
       "  </thead>\n",
       "  <tbody>\n",
       "    <tr>\n",
       "      <th>0</th>\n",
       "      <td>responded going</td>\n",
       "      <td>1</td>\n",
       "    </tr>\n",
       "    <tr>\n",
       "      <th>1</th>\n",
       "      <td>sooo sad miss san diego</td>\n",
       "      <td>0</td>\n",
       "    </tr>\n",
       "    <tr>\n",
       "      <th>2</th>\n",
       "      <td>boss bullying</td>\n",
       "      <td>0</td>\n",
       "    </tr>\n",
       "    <tr>\n",
       "      <th>3</th>\n",
       "      <td>interview leave alone</td>\n",
       "      <td>0</td>\n",
       "    </tr>\n",
       "    <tr>\n",
       "      <th>4</th>\n",
       "      <td>sons put releases already bought</td>\n",
       "      <td>0</td>\n",
       "    </tr>\n",
       "  </tbody>\n",
       "</table>\n",
       "</div>"
      ],
      "text/plain": [
       "                     processed_text  sentiment\n",
       "0                   responded going          1\n",
       "1           sooo sad miss san diego          0\n",
       "2                     boss bullying          0\n",
       "3             interview leave alone          0\n",
       "4  sons put releases already bought          0"
      ]
     },
     "execution_count": 17,
     "metadata": {},
     "output_type": "execute_result"
    }
   ],
   "source": [
    "columns = ['processed_text', 'sentiment']\n",
    "train_df = train_df[columns]\n",
    "test_df = test_df[columns]\n",
    "train_df.head()"
   ]
  },
  {
   "cell_type": "markdown",
   "metadata": {},
   "source": [
    "### 5.3 Tokenisation et Génération des embeddings avec BERT\n",
    "\n",
    "- Conversion du texte brut et le convertira en une représentation adaptée au modèle BERT\n",
    "- Nous utilisons les embeddings de BERT pour représenter les textes. Cela permet d'obtenir des représentations plus riches et contextuelles.\n"
   ]
  },
  {
   "cell_type": "code",
   "execution_count": 18,
   "metadata": {},
   "outputs": [
    {
     "name": "stdout",
     "output_type": "stream",
     "text": [
      "Device utilisé : cuda\n"
     ]
    }
   ],
   "source": [
    "device = torch.device(\"cuda\" if torch.cuda.is_available() else \"cpu\")\n",
    "print(\"Device utilisé :\", device)"
   ]
  },
  {
   "cell_type": "code",
   "execution_count": 19,
   "metadata": {},
   "outputs": [
    {
     "data": {
      "text/plain": [
       "BertModel(\n",
       "  (embeddings): BertEmbeddings(\n",
       "    (word_embeddings): Embedding(30522, 768, padding_idx=0)\n",
       "    (position_embeddings): Embedding(512, 768)\n",
       "    (token_type_embeddings): Embedding(2, 768)\n",
       "    (LayerNorm): LayerNorm((768,), eps=1e-12, elementwise_affine=True)\n",
       "    (dropout): Dropout(p=0.1, inplace=False)\n",
       "  )\n",
       "  (encoder): BertEncoder(\n",
       "    (layer): ModuleList(\n",
       "      (0-11): 12 x BertLayer(\n",
       "        (attention): BertAttention(\n",
       "          (self): BertSdpaSelfAttention(\n",
       "            (query): Linear(in_features=768, out_features=768, bias=True)\n",
       "            (key): Linear(in_features=768, out_features=768, bias=True)\n",
       "            (value): Linear(in_features=768, out_features=768, bias=True)\n",
       "            (dropout): Dropout(p=0.1, inplace=False)\n",
       "          )\n",
       "          (output): BertSelfOutput(\n",
       "            (dense): Linear(in_features=768, out_features=768, bias=True)\n",
       "            (LayerNorm): LayerNorm((768,), eps=1e-12, elementwise_affine=True)\n",
       "            (dropout): Dropout(p=0.1, inplace=False)\n",
       "          )\n",
       "        )\n",
       "        (intermediate): BertIntermediate(\n",
       "          (dense): Linear(in_features=768, out_features=3072, bias=True)\n",
       "          (intermediate_act_fn): GELUActivation()\n",
       "        )\n",
       "        (output): BertOutput(\n",
       "          (dense): Linear(in_features=3072, out_features=768, bias=True)\n",
       "          (LayerNorm): LayerNorm((768,), eps=1e-12, elementwise_affine=True)\n",
       "          (dropout): Dropout(p=0.1, inplace=False)\n",
       "        )\n",
       "      )\n",
       "    )\n",
       "  )\n",
       "  (pooler): BertPooler(\n",
       "    (dense): Linear(in_features=768, out_features=768, bias=True)\n",
       "    (activation): Tanh()\n",
       "  )\n",
       ")"
      ]
     },
     "execution_count": 19,
     "metadata": {},
     "output_type": "execute_result"
    }
   ],
   "source": [
    "PRETRAINED_MODEL = \"bert-base-uncased\"\n",
    "tokenizer = BertTokenizer.from_pretrained(PRETRAINED_MODEL)\n",
    "bert = BertModel.from_pretrained(PRETRAINED_MODEL).to(device)\n",
    "bert.eval()"
   ]
  },
  {
   "cell_type": "code",
   "execution_count": 20,
   "metadata": {},
   "outputs": [],
   "source": [
    "def tokenize_text(text):\n",
    "    return tokenizer(\n",
    "        text,\n",
    "        padding='max_length',  # On remplit jusqu'à la longueur max\n",
    "        truncation=True,       # On tronque si le texte dépasse la longueur max\n",
    "        max_length=128,        # Longueur maximale\n",
    "        return_tensors=\"pt\"   # Retourne des tenseurs PyTorch\n",
    "    )"
   ]
  },
  {
   "cell_type": "code",
   "execution_count": 21,
   "metadata": {},
   "outputs": [
    {
     "name": "stdout",
     "output_type": "stream",
     "text": [
      "Tokenisation terminée.\n",
      "Exemple input_ids (train) : torch.Size([128])\n"
     ]
    }
   ],
   "source": [
    "train_df['tokenized'] = train_df['processed_text'].apply(lambda x: tokenize_text(x))\n",
    "test_df['tokenized'] = test_df['processed_text'].apply(lambda x: tokenize_text(x))\n",
    "\n",
    "# Extraction des input_ids et attention_mask\n",
    "train_df['input_ids'] = train_df['tokenized'].apply(lambda x: x['input_ids'].squeeze(0))\n",
    "train_df['attention_mask'] = train_df['tokenized'].apply(lambda x: x['attention_mask'].squeeze(0))\n",
    "\n",
    "test_df['input_ids'] = test_df['tokenized'].apply(lambda x: x['input_ids'].squeeze(0))\n",
    "test_df['attention_mask'] = test_df['tokenized'].apply(lambda x: x['attention_mask'].squeeze(0))\n",
    "\n",
    "print(\"Tokenisation terminée.\")\n",
    "print(\"Exemple input_ids (train) :\", train_df['input_ids'].iloc[0].shape)"
   ]
  },
  {
   "cell_type": "code",
   "execution_count": null,
   "metadata": {},
   "outputs": [
    {
     "name": "stdout",
     "output_type": "stream",
     "text": [
      "Nombre d'instances d'entraînement : 27480\n",
      "Taille de la première embedding : 768\n"
     ]
    }
   ],
   "source": [
    "batch_size = 32\n",
    "train_embeddings_list = []\n",
    "\n",
    "with torch.no_grad():\n",
    "    for i in range(0, len(train_df), batch_size):\n",
    "        batch = train_df.iloc[i:i+batch_size]\n",
    "        input_ids = torch.stack(batch['input_ids'].tolist()).to(device)\n",
    "        attention_mask = torch.stack(batch['attention_mask'].tolist()).to(device)\n",
    "        outputs = bert(input_ids=input_ids, attention_mask=attention_mask)\n",
    "        pooled_output = outputs.pooler_output  # [batch_size, hidden_size]\n",
    "        train_embeddings_list.append(pooled_output.cpu())\n",
    "\n",
    "# Concaténation de tous les batchs\n",
    "train_embeddings = torch.cat(train_embeddings_list, dim=0)\n",
    "\n",
    "# On stocke les embeddings dans une nouvelle colonne\n",
    "train_df['embeddings'] = train_embeddings.tolist()\n",
    "\n",
    "print(\"Nombre d'instances d'entraînement :\", len(train_df))\n",
    "print(\"Taille de la première embedding :\", len(train_df['embeddings'].iloc[0]))"
   ]
  },
  {
   "cell_type": "code",
   "execution_count": 29,
   "metadata": {},
   "outputs": [
    {
     "name": "stdout",
     "output_type": "stream",
     "text": [
      "Nombre d'instances de test : 3534\n",
      "Taille de la première embedding : 768\n"
     ]
    }
   ],
   "source": [
    "test_embeddings_list = []\n",
    "\n",
    "\n",
    "with torch.no_grad():\n",
    "    for i in range(0, len(test_df), batch_size):\n",
    "        batch = test_df.iloc[i:i+batch_size]\n",
    "        input_ids = torch.stack(batch['input_ids'].tolist()).to(device)\n",
    "        attention_mask = torch.stack(batch['attention_mask'].tolist()).to(device)\n",
    "        outputs = bert(input_ids=input_ids, attention_mask=attention_mask)\n",
    "        pooled_output = outputs.pooler_output  # [batch_size, hidden_size]\n",
    "        test_embeddings_list.append(pooled_output.cpu())\n",
    "\n",
    "# Concatenating all batches\n",
    "test_embeddings = torch.cat(test_embeddings_list, dim=0)\n",
    "\n",
    "# Storing embeddings in a new column\n",
    "test_df['embeddings'] = test_embeddings.tolist()\n",
    "\n",
    "print(\"Nombre d'instances de test :\", len(test_df))\n",
    "print(\"Taille de la première embedding :\", len(test_df['embeddings'].iloc[0]))"
   ]
  },
  {
   "cell_type": "code",
   "execution_count": 30,
   "metadata": {},
   "outputs": [
    {
     "data": {
      "text/html": [
       "<div>\n",
       "<style scoped>\n",
       "    .dataframe tbody tr th:only-of-type {\n",
       "        vertical-align: middle;\n",
       "    }\n",
       "\n",
       "    .dataframe tbody tr th {\n",
       "        vertical-align: top;\n",
       "    }\n",
       "\n",
       "    .dataframe thead th {\n",
       "        text-align: right;\n",
       "    }\n",
       "</style>\n",
       "<table border=\"1\" class=\"dataframe\">\n",
       "  <thead>\n",
       "    <tr style=\"text-align: right;\">\n",
       "      <th></th>\n",
       "      <th>processed_text</th>\n",
       "      <th>sentiment</th>\n",
       "      <th>tokenized</th>\n",
       "      <th>input_ids</th>\n",
       "      <th>attention_mask</th>\n",
       "      <th>embeddings</th>\n",
       "    </tr>\n",
       "  </thead>\n",
       "  <tbody>\n",
       "    <tr>\n",
       "      <th>0</th>\n",
       "      <td>responded going</td>\n",
       "      <td>1</td>\n",
       "      <td>[input_ids, token_type_ids, attention_mask]</td>\n",
       "      <td>[tensor(101), tensor(5838), tensor(2183), tens...</td>\n",
       "      <td>[tensor(1), tensor(1), tensor(1), tensor(1), t...</td>\n",
       "      <td>[-0.8226425051689148, -0.21082709729671478, 0....</td>\n",
       "    </tr>\n",
       "    <tr>\n",
       "      <th>1</th>\n",
       "      <td>sooo sad miss san diego</td>\n",
       "      <td>0</td>\n",
       "      <td>[input_ids, token_type_ids, attention_mask]</td>\n",
       "      <td>[tensor(101), tensor(17111), tensor(2080), ten...</td>\n",
       "      <td>[tensor(1), tensor(1), tensor(1), tensor(1), t...</td>\n",
       "      <td>[-0.8626494407653809, -0.4829854667186737, -0....</td>\n",
       "    </tr>\n",
       "    <tr>\n",
       "      <th>2</th>\n",
       "      <td>boss bullying</td>\n",
       "      <td>0</td>\n",
       "      <td>[input_ids, token_type_ids, attention_mask]</td>\n",
       "      <td>[tensor(101), tensor(5795), tensor(18917), ten...</td>\n",
       "      <td>[tensor(1), tensor(1), tensor(1), tensor(1), t...</td>\n",
       "      <td>[-0.7897495627403259, -0.18976107239723206, 0....</td>\n",
       "    </tr>\n",
       "    <tr>\n",
       "      <th>3</th>\n",
       "      <td>interview leave alone</td>\n",
       "      <td>0</td>\n",
       "      <td>[input_ids, token_type_ids, attention_mask]</td>\n",
       "      <td>[tensor(101), tensor(4357), tensor(2681), tens...</td>\n",
       "      <td>[tensor(1), tensor(1), tensor(1), tensor(1), t...</td>\n",
       "      <td>[-0.8291894197463989, -0.23166592419147491, 0....</td>\n",
       "    </tr>\n",
       "    <tr>\n",
       "      <th>4</th>\n",
       "      <td>sons put releases already bought</td>\n",
       "      <td>0</td>\n",
       "      <td>[input_ids, token_type_ids, attention_mask]</td>\n",
       "      <td>[tensor(101), tensor(4124), tensor(2404), tens...</td>\n",
       "      <td>[tensor(1), tensor(1), tensor(1), tensor(1), t...</td>\n",
       "      <td>[-0.8078674674034119, -0.2772521376609802, 0.2...</td>\n",
       "    </tr>\n",
       "  </tbody>\n",
       "</table>\n",
       "</div>"
      ],
      "text/plain": [
       "                     processed_text  sentiment  \\\n",
       "0                   responded going          1   \n",
       "1           sooo sad miss san diego          0   \n",
       "2                     boss bullying          0   \n",
       "3             interview leave alone          0   \n",
       "4  sons put releases already bought          0   \n",
       "\n",
       "                                     tokenized  \\\n",
       "0  [input_ids, token_type_ids, attention_mask]   \n",
       "1  [input_ids, token_type_ids, attention_mask]   \n",
       "2  [input_ids, token_type_ids, attention_mask]   \n",
       "3  [input_ids, token_type_ids, attention_mask]   \n",
       "4  [input_ids, token_type_ids, attention_mask]   \n",
       "\n",
       "                                           input_ids  \\\n",
       "0  [tensor(101), tensor(5838), tensor(2183), tens...   \n",
       "1  [tensor(101), tensor(17111), tensor(2080), ten...   \n",
       "2  [tensor(101), tensor(5795), tensor(18917), ten...   \n",
       "3  [tensor(101), tensor(4357), tensor(2681), tens...   \n",
       "4  [tensor(101), tensor(4124), tensor(2404), tens...   \n",
       "\n",
       "                                      attention_mask  \\\n",
       "0  [tensor(1), tensor(1), tensor(1), tensor(1), t...   \n",
       "1  [tensor(1), tensor(1), tensor(1), tensor(1), t...   \n",
       "2  [tensor(1), tensor(1), tensor(1), tensor(1), t...   \n",
       "3  [tensor(1), tensor(1), tensor(1), tensor(1), t...   \n",
       "4  [tensor(1), tensor(1), tensor(1), tensor(1), t...   \n",
       "\n",
       "                                          embeddings  \n",
       "0  [-0.8226425051689148, -0.21082709729671478, 0....  \n",
       "1  [-0.8626494407653809, -0.4829854667186737, -0....  \n",
       "2  [-0.7897495627403259, -0.18976107239723206, 0....  \n",
       "3  [-0.8291894197463989, -0.23166592419147491, 0....  \n",
       "4  [-0.8078674674034119, -0.2772521376609802, 0.2...  "
      ]
     },
     "execution_count": 30,
     "metadata": {},
     "output_type": "execute_result"
    }
   ],
   "source": [
    "df = pd.concat([train_df, test_df], axis=0)\n",
    "# df.to_csv('processed_data.csv')\n",
    "df.head()"
   ]
  },
  {
   "cell_type": "markdown",
   "metadata": {},
   "source": [
    "## 5.4 Préparation des Données pour l'Entraînement\n",
    " \n",
    "Nous allons maintenant extraire les embeddings et les labels, et si besoin appliquer une stratégie de rééquilibrage comme **SMOTE**.\n"
   ]
  },
  {
   "cell_type": "code",
   "execution_count": 31,
   "metadata": {},
   "outputs": [
    {
     "name": "stdout",
     "output_type": "stream",
     "text": [
      "Répartition initiale : Counter({np.int64(1): 11117, np.int64(2): 8582, np.int64(0): 7781})\n"
     ]
    },
    {
     "name": "stderr",
     "output_type": "stream",
     "text": [
      "c:\\Users\\amine\\AppData\\Local\\Programs\\Python\\Python312\\Lib\\site-packages\\joblib\\externals\\loky\\backend\\context.py:136: UserWarning: Could not find the number of physical cores for the following reason:\n",
      "[WinError 2] The system cannot find the file specified\n",
      "Returning the number of logical cores instead. You can silence this warning by setting LOKY_MAX_CPU_COUNT to the number of cores you want to use.\n",
      "  warnings.warn(\n",
      "  File \"c:\\Users\\amine\\AppData\\Local\\Programs\\Python\\Python312\\Lib\\site-packages\\joblib\\externals\\loky\\backend\\context.py\", line 257, in _count_physical_cores\n",
      "    cpu_info = subprocess.run(\n",
      "               ^^^^^^^^^^^^^^^\n",
      "  File \"c:\\Users\\amine\\AppData\\Local\\Programs\\Python\\Python312\\Lib\\subprocess.py\", line 548, in run\n",
      "    with Popen(*popenargs, **kwargs) as process:\n",
      "         ^^^^^^^^^^^^^^^^^^^^^^^^^^^\n",
      "  File \"c:\\Users\\amine\\AppData\\Local\\Programs\\Python\\Python312\\Lib\\subprocess.py\", line 1026, in __init__\n",
      "    self._execute_child(args, executable, preexec_fn, close_fds,\n",
      "  File \"c:\\Users\\amine\\AppData\\Local\\Programs\\Python\\Python312\\Lib\\subprocess.py\", line 1538, in _execute_child\n",
      "    hp, ht, pid, tid = _winapi.CreateProcess(executable, args,\n",
      "                       ^^^^^^^^^^^^^^^^^^^^^^^^^^^^^^^^^^^^^^^\n"
     ]
    },
    {
     "name": "stdout",
     "output_type": "stream",
     "text": [
      "Répartition après SMOTE : Counter({np.int64(1): 11117, np.int64(0): 11117, np.int64(2): 11117})\n"
     ]
    }
   ],
   "source": [
    "X = np.array(train_df['embeddings'].tolist())\n",
    "y = train_df['sentiment'].values\n",
    "\n",
    "print(\"Répartition initiale :\", Counter(y))\n",
    "\n",
    "# Sur-échantillonnage avec SMOTE\n",
    "X_res, y_res = SMOTE(random_state=42).fit_resample(X, y)\n",
    "print(\"Répartition après SMOTE :\", Counter(y_res))\n",
    "\n",
    "# Mise à jour\n",
    "X, y = X_res, y_res"
   ]
  },
  {
   "cell_type": "markdown",
   "metadata": {},
   "source": [
    "## 6. Entraînement et évaluation des modèles\n",
    "\n",
    "Dans cette section, nous utilisons les embeddings BERT générés pour entraîner différents modèles de Machine Learning classiques. \n",
    "Nous effectuons également une recherche d'hyperparamètres (Grid Search ou Randomized Search) afin d'optimiser les performances.\n",
    "\n",
    "### 6.1 Modèles ML"
   ]
  },
  {
   "cell_type": "code",
   "execution_count": 32,
   "metadata": {},
   "outputs": [],
   "source": [
    "# Initialize models\n",
    "DTree = DecisionTreeClassifier()\n",
    "LogReg = LogisticRegression()\n",
    "svm = SVC()\n",
    "RForest = RandomForestClassifier()\n",
    "Bayes = BernoulliNB()\n",
    "KNN = KNeighborsClassifier()\n",
    "\n",
    "# Models dictionary for reference\n",
    "Models = [DTree, LogReg, svm, RForest, Bayes, KNN]\n",
    "Models_Dict = {\n",
    "    0: \"Decision Tree\",\n",
    "    1: \"Logistic Regression\",\n",
    "    2: \"SVC\",\n",
    "    3: \"Random Forest\",\n",
    "    4: \"Naive Bayes\",\n",
    "    5: \"K-Neighbors\"\n",
    "}"
   ]
  },
  {
   "cell_type": "code",
   "execution_count": 33,
   "metadata": {},
   "outputs": [],
   "source": [
    "# Séparation du dataset\n",
    "X_train, X_test, y_train, y_test = train_test_split(X, y, test_size=0.2, random_state=42)\n",
    "\n",
    "# %%\n",
    "# Ensemble plus réduit pour évaluation rapide\n",
    "_, X_lim, _, y_lim = train_test_split(X, y, test_size=0.03, random_state=42)"
   ]
  },
  {
   "cell_type": "markdown",
   "metadata": {},
   "source": [
    "Best Parameters for Decision Tree: {'criterion': 'entropy', 'max_depth': None, 'min_samples_split': 5}\n",
    "Best Accuracy for Decision Tree: 0.5149979625363578"
   ]
  },
  {
   "cell_type": "code",
   "execution_count": 34,
   "metadata": {},
   "outputs": [
    {
     "name": "stdout",
     "output_type": "stream",
     "text": [
      "Fitting 5 folds for each of 24 candidates, totalling 120 fits\n",
      "Best Parameters for Decision Tree: {'criterion': 'gini', 'max_depth': 15, 'min_samples_split': 2}\n",
      "Best Accuracy for Decision Tree: 0.5078335832083958\n"
     ]
    }
   ],
   "source": [
    "param_grid_dtree = {\n",
    "    'criterion': ['gini', 'entropy'],\n",
    "    'max_depth': [5, 10, 15, None],\n",
    "    'min_samples_split': [2, 5, 10]\n",
    "}\n",
    "\n",
    "grid_dtree = GridSearchCV(estimator=DecisionTreeClassifier(), param_grid=param_grid_dtree, cv=5, scoring='accuracy', n_jobs=-1, verbose=1)\n",
    "grid_dtree.fit(X_train, y_train)\n",
    "\n",
    "print(\"Best Parameters for Decision Tree:\", grid_dtree.best_params_)\n",
    "print(\"Best Accuracy for Decision Tree:\", grid_dtree.best_score_)"
   ]
  },
  {
   "cell_type": "markdown",
   "metadata": {},
   "source": [
    "Best Parameters for Logistic Regression: {'solver': 'liblinear', 'penalty': 'l2', 'C': np.float64(4.6415888336127775)}\n",
    "Best Accuracy for Logistic Regression: 0.6817571490131886"
   ]
  },
  {
   "cell_type": "code",
   "execution_count": 94,
   "metadata": {},
   "outputs": [
    {
     "name": "stdout",
     "output_type": "stream",
     "text": [
      "Fitting 5 folds for each of 5 candidates, totalling 25 fits\n",
      "Best Parameters for Logistic Regression: {'solver': 'liblinear', 'penalty': 'l2', 'C': np.float64(4.6415888336127775)}\n",
      "Best Accuracy for Logistic Regression: 0.6817571490131886\n"
     ]
    }
   ],
   "source": [
    "# Define the parameter grid with a wider range for random sampling\n",
    "param_dist_logreg = {\n",
    "    'C': np.logspace(-2, 2, 10),  # Generate 10 values between 0.01 and 100\n",
    "    'penalty': ['l1', 'l2'],\n",
    "    'solver': ['liblinear', 'saga']\n",
    "}\n",
    "\n",
    "# RandomizedSearchCV with fewer combinations\n",
    "random_logreg = RandomizedSearchCV(\n",
    "    estimator=LogisticRegression(),\n",
    "    param_distributions=param_dist_logreg,\n",
    "    n_iter=5,  # Reduce the number of combinations to try\n",
    "    cv=5,\n",
    "    scoring='accuracy',\n",
    "    n_jobs=-1,\n",
    "    verbose=1,\n",
    "    random_state=42\n",
    ")\n",
    "\n",
    "# Fit the model\n",
    "random_logreg.fit(X_train, y_train)\n",
    "\n",
    "# Print the results\n",
    "print(\"Best Parameters for Logistic Regression:\", random_logreg.best_params_)\n",
    "print(\"Best Accuracy for Logistic Regression:\", random_logreg.best_score_)"
   ]
  },
  {
   "cell_type": "code",
   "execution_count": 36,
   "metadata": {},
   "outputs": [],
   "source": [
    "def evaluate_model(model, X_test, y_test):\n",
    "    y_pred = model.predict(X_test)\n",
    "    report = classification_report(y_test, y_pred, output_dict=True)\n",
    "\n",
    "    \n",
    "    precision = report[\"weighted avg\"][\"precision\"] * 100\n",
    "    recall = report[\"weighted avg\"][\"recall\"] * 100\n",
    "    f1_score = report[\"weighted avg\"][\"f1-score\"] * 100\n",
    "    accuracy = accuracy_score(y_test, y_pred) * 100\n",
    "\n",
    "\n",
    "\n",
    "    return {\n",
    "        \"Exactitude\": f\"{accuracy:.2f}%\",\n",
    "        \"Précision\": f\"{precision:.2f}%\",\n",
    "        \"Rappel\": f\"{recall:.2f}%\",\n",
    "        \"Score F1\": f\"{f1_score:.2f}%\"\n",
    "    }"
   ]
  },
  {
   "cell_type": "code",
   "execution_count": 37,
   "metadata": {},
   "outputs": [
    {
     "name": "stdout",
     "output_type": "stream",
     "text": [
      "Best Parameters for Logistic Regression:\n",
      "Exactitude: 67.13%\n",
      "Précision: 66.98%\n",
      "Rappel: 67.13%\n",
      "Score F1: 67.04%\n"
     ]
    }
   ],
   "source": [
    "optimal_logreg = LogisticRegression(solver='liblinear', penalty='l2', C=4.6415888336127775)\n",
    "\n",
    "# Fit the model to the training data\n",
    "optimal_logreg.fit(X_train, y_train)\n",
    "\n",
    "metrics = evaluate_model(optimal_logreg, X_test, y_test)\n",
    "print(\"Best Parameters for Logistic Regression:\")\n",
    "for key, value in metrics.items():\n",
    "    print(f\"{key}: {value}\")"
   ]
  },
  {
   "cell_type": "code",
   "execution_count": 38,
   "metadata": {},
   "outputs": [
    {
     "name": "stdout",
     "output_type": "stream",
     "text": [
      "Best Parameters for Logistic Regression:\n",
      "Exactitude: 66.13%\n",
      "Précision: 65.92%\n",
      "Rappel: 66.13%\n",
      "Score F1: 65.96%\n"
     ]
    }
   ],
   "source": [
    "metrics = evaluate_model(optimal_logreg, X_lim, y_lim)\n",
    "print(\"Best Parameters for Logistic Regression:\")\n",
    "for key, value in metrics.items():\n",
    "    print(f\"{key}: {value}\")"
   ]
  },
  {
   "cell_type": "markdown",
   "metadata": {},
   "source": [
    "Best Parameters for SVM: {'kernel': 'linear', 'gamma': 'auto', 'C': np.float64(1.0)}\n",
    "Best Accuracy for SVM: 0.6606060606060606"
   ]
  },
  {
   "cell_type": "code",
   "execution_count": null,
   "metadata": {},
   "outputs": [],
   "source": [
    "# Define the parameter distribution for random search\n",
    "param_dist_svm = {\n",
    "    'C': np.logspace(-2, 2, 5),  # Generate 5 logarithmically spaced values between 0.01 and 100\n",
    "    'kernel': ['linear', 'rbf', 'poly'],\n",
    "    'gamma': ['scale', 'auto']\n",
    "}\n",
    "\n",
    "# RandomizedSearchCV with fewer combinations\n",
    "random_svm = RandomizedSearchCV(\n",
    "    estimator=SVC(),\n",
    "    param_distributions=param_dist_svm,\n",
    "    n_iter=5,  # Reduce the number of combinations to try\n",
    "    cv=5,\n",
    "    scoring='accuracy',\n",
    "    n_jobs=-1,\n",
    "    verbose=1,\n",
    "    random_state=42\n",
    ")\n",
    "\n",
    "# Fit the model\n",
    "random_svm.fit(X_train, y_train)\n",
    "\n",
    "# Print the results\n",
    "print(\"Best Parameters for SVM:\", random_svm.best_params_)\n",
    "print(\"Best Accuracy for SVM:\", random_svm.best_score_)"
   ]
  },
  {
   "cell_type": "code",
   "execution_count": 137,
   "metadata": {},
   "outputs": [
    {
     "name": "stdout",
     "output_type": "stream",
     "text": [
      "[2 2 1 ... 0 2 2]\n",
      "Best Parameters for SVM:\n",
      "Exactitude: 67.83%\n",
      "Précision: 67.72%\n",
      "Rappel: 67.83%\n",
      "Score F1: 67.74%\n"
     ]
    }
   ],
   "source": [
    "# Define the optimized SVM model with the given parameters\n",
    "optimal_svm = SVC(kernel='linear', gamma='auto', C=1.0)\n",
    "\n",
    "# Fit the model to the training data\n",
    "optimal_svm.fit(X_train, y_train)\n",
    "\n",
    "metrics = evaluate_model(optimal_svm, X_test, y_test)\n",
    "print(\"Best Parameters for SVM:\")\n",
    "for key, value in metrics.items():\n",
    "    print(f\"{key}: {value}\")\n"
   ]
  },
  {
   "cell_type": "code",
   "execution_count": 138,
   "metadata": {},
   "outputs": [
    {
     "name": "stdout",
     "output_type": "stream",
     "text": [
      "[2 2 1 ... 0 0 0]\n",
      "Best Parameters for SVM:\n",
      "Exactitude: 65.75%\n",
      "Précision: 65.53%\n",
      "Rappel: 65.75%\n",
      "Score F1: 65.50%\n"
     ]
    }
   ],
   "source": [
    "metrics = evaluate_model(optimal_svm, X_lim, y_lim)\n",
    "print(\"Best Parameters for SVM:\")\n",
    "for key, value in metrics.items():\n",
    "    print(f\"{key}: {value}\")"
   ]
  },
  {
   "cell_type": "markdown",
   "metadata": {},
   "source": [
    "Best Parameters for Random Forest: {'max_depth': None, 'min_samples_split': 5, 'n_estimators': 200}\n",
    "Best Accuracy for Random Forest: 0.6764709788816576"
   ]
  },
  {
   "cell_type": "code",
   "execution_count": null,
   "metadata": {},
   "outputs": [],
   "source": [
    "param_grid_rforest = {\n",
    "    'n_estimators': [50, 100, 200],\n",
    "    'max_depth': [None, 10, 20],\n",
    "    'min_samples_split': [2, 5, 10]\n",
    "}\n",
    "\n",
    "grid_rforest = GridSearchCV(estimator=RandomForestClassifier(), param_grid=param_grid_rforest, cv=5, scoring='accuracy', n_jobs=-1, verbose=1)\n",
    "grid_rforest.fit(X_train, y_train)\n",
    "\n",
    "print(\"Best Parameters for Random Forest:\", grid_rforest.best_params_)\n",
    "print(\"Best Accuracy for Random Forest:\", grid_rforest.best_score_)\n"
   ]
  },
  {
   "cell_type": "code",
   "execution_count": 139,
   "metadata": {},
   "outputs": [
    {
     "name": "stdout",
     "output_type": "stream",
     "text": [
      "[2 1 0 ... 2 2 2]\n",
      "Best Parameters for Random Forest:\n",
      "Exactitude: 65.97%\n",
      "Précision: 65.77%\n",
      "Rappel: 65.97%\n",
      "Score F1: 65.83%\n"
     ]
    }
   ],
   "source": [
    "\n",
    "# Define the optimized Random Forest model with the given parameters\n",
    "optimal_rf = RandomForestClassifier(max_depth=None, min_samples_split=5, n_estimators=200, random_state=42)\n",
    "\n",
    "# Fit the model to the training data\n",
    "optimal_rf.fit(X_train, y_train)\n",
    "\n",
    "metrics = evaluate_model(optimal_rf, X_test, y_test)\n",
    "print(\"Best Parameters for Random Forest:\")\n",
    "for key, value in metrics.items():\n",
    "    print(f\"{key}: {value}\")"
   ]
  },
  {
   "cell_type": "code",
   "execution_count": 140,
   "metadata": {},
   "outputs": [
    {
     "name": "stdout",
     "output_type": "stream",
     "text": [
      "[2 1 0 ... 0 2 1]\n",
      "Best Parameters for Random Forest:\n",
      "Exactitude: 65.58%\n",
      "Précision: 65.45%\n",
      "Rappel: 65.58%\n",
      "Score F1: 65.50%\n"
     ]
    }
   ],
   "source": [
    "metrics = evaluate_model(optimal_rf, X_lim, y_lim)\n",
    "print(\"Best Parameters for Random Forest:\")\n",
    "for key, value in metrics.items():\n",
    "    print(f\"{key}: {value}\")"
   ]
  },
  {
   "cell_type": "markdown",
   "metadata": {},
   "source": [
    "Best Parameters for Naive Bayes: {'alpha': 0.1}\n",
    "Best Accuracy for Naive Bayes: 0.383677322641507"
   ]
  },
  {
   "cell_type": "code",
   "execution_count": 70,
   "metadata": {},
   "outputs": [
    {
     "name": "stdout",
     "output_type": "stream",
     "text": [
      "Fitting 5 folds for each of 5 candidates, totalling 25 fits\n",
      "Best Parameters for Naive Bayes: {'alpha': 0.1}\n",
      "Best Accuracy for Naive Bayes: 0.383677322641507\n"
     ]
    }
   ],
   "source": [
    "param_grid_bayes = {\n",
    "    'alpha': [0.1, 0.5, 1, 5, 10]\n",
    "}\n",
    "\n",
    "grid_bayes = GridSearchCV(estimator=BernoulliNB(), param_grid=param_grid_bayes, cv=5, scoring='accuracy', n_jobs=-1, verbose=1)\n",
    "grid_bayes.fit(X_train, y_train)\n",
    "\n",
    "print(\"Best Parameters for Naive Bayes:\", grid_bayes.best_params_)\n",
    "print(\"Best Accuracy for Naive Bayes:\", grid_bayes.best_score_)\n"
   ]
  },
  {
   "cell_type": "markdown",
   "metadata": {},
   "source": [
    "Best Parameters for K-Neighbors: {'n_neighbors': 3, 'p': 2, 'weights': 'distance'}\n",
    "Best Accuracy for K-Neighbors: 0.612259348866988"
   ]
  },
  {
   "cell_type": "code",
   "execution_count": 69,
   "metadata": {},
   "outputs": [
    {
     "name": "stdout",
     "output_type": "stream",
     "text": [
      "Fitting 5 folds for each of 16 candidates, totalling 80 fits\n",
      "Best Parameters for K-Neighbors: {'n_neighbors': 3, 'p': 2, 'weights': 'distance'}\n",
      "Best Accuracy for K-Neighbors: 0.612259348866988\n"
     ]
    }
   ],
   "source": [
    "param_grid_knn = {\n",
    "    'n_neighbors': [3, 5, 7, 9],\n",
    "    'weights': ['uniform', 'distance'],\n",
    "    'p': [1, 2]  # Minkowski distance (1=Manhattan, 2=Euclidean)\n",
    "}\n",
    "\n",
    "grid_knn = GridSearchCV(estimator=KNeighborsClassifier(), param_grid=param_grid_knn, cv=5, scoring='accuracy', n_jobs=-1, verbose=1)\n",
    "grid_knn.fit(X_train, y_train)\n",
    "\n",
    "print(\"Best Parameters for K-Neighbors:\", grid_knn.best_params_)\n",
    "print(\"Best Accuracy for K-Neighbors:\", grid_knn.best_score_)\n"
   ]
  },
  {
   "cell_type": "markdown",
   "metadata": {},
   "source": [
    "## 6.2 Réseaux de Neurones et Optimisation avec Optuna\n",
    "Dans cette section, nous proposons deux architectures de réseaux de neurones (`SimpleMLP` et `BetterMLP`), ainsi qu'une procédure d'entraînement basée sur PyTorch. \n"
   ]
  },
  {
   "cell_type": "code",
   "execution_count": 39,
   "metadata": {},
   "outputs": [],
   "source": [
    "class SentimentDataset(Dataset):\n",
    "    def __init__(self, df):\n",
    "        self.embeddings = torch.tensor(np.array(df['embeddings'].to_list()), dtype=torch.float32)\n",
    "        self.labels = torch.tensor(df['sentiment'].astype(int).values, dtype=torch.long)\n",
    "\n",
    "    def __len__(self):\n",
    "        return len(self.labels)\n",
    "\n",
    "    def __getitem__(self, idx):\n",
    "        return self.embeddings[idx], self.labels[idx]  # Ensure it returns a tuple\n"
   ]
  },
  {
   "cell_type": "code",
   "execution_count": 40,
   "metadata": {},
   "outputs": [],
   "source": [
    "class SimpleMLP(nn.Module):\n",
    "    def __init__(self, input_dim, hidden_dim, output_dim, dropout=0.0, activation=\"relu\"):\n",
    "        super(SimpleMLP, self).__init__()\n",
    "        self.fc1 = nn.Linear(input_dim, hidden_dim)\n",
    "        \n",
    "        # Activation function selection\n",
    "        if activation == \"relu\":\n",
    "            self.activation = nn.ReLU()\n",
    "        elif activation == \"tanh\":\n",
    "            self.activation = nn.Tanh()\n",
    "        elif activation == \"sigmoid\":\n",
    "            self.activation = nn.Sigmoid()\n",
    "        else:\n",
    "            raise ValueError(\"Invalid activation function. Choose from 'relu', 'tanh', 'sigmoid'.\")\n",
    "\n",
    "        self.dropout = nn.Dropout(dropout)\n",
    "        self.fc2 = nn.Linear(hidden_dim, output_dim)\n",
    "\n",
    "    def forward(self, x):\n",
    "        x = self.fc1(x)\n",
    "        x = self.activation(x)  # Apply activation function\n",
    "        x = self.dropout(x)  # Apply dropout\n",
    "        x = self.fc2(x)\n",
    "        return x\n"
   ]
  },
  {
   "cell_type": "code",
   "execution_count": 41,
   "metadata": {},
   "outputs": [],
   "source": [
    "\n",
    "class BetterMLP(nn.Module):\n",
    "    def __init__(self, input_dim, hidden_dim, output_dim=3, dropout=0.3, activation=\"relu\"):\n",
    "        super(BetterMLP, self).__init__()\n",
    "\n",
    "        # Activation function selection\n",
    "        if activation == \"relu\":\n",
    "            self.activation = nn.ReLU()\n",
    "        elif activation == \"tanh\":\n",
    "            self.activation = nn.Tanh()\n",
    "        elif activation == \"sigmoid\":\n",
    "            self.activation = nn.Sigmoid()\n",
    "        else:\n",
    "            raise ValueError(\"Invalid activation function. Choose from 'relu', 'tanh', 'sigmoid'.\")\n",
    "\n",
    "        # Fully connected layers with decreasing sizes\n",
    "        self.fc1 = nn.Linear(input_dim, hidden_dim)\n",
    "        self.fc2 = nn.Linear(hidden_dim, hidden_dim // 2)\n",
    "        self.fc3 = nn.Linear(hidden_dim // 2, hidden_dim // 4)\n",
    "        self.fc4 = nn.Linear(hidden_dim // 4, hidden_dim // 8)\n",
    "        self.fc5 = nn.Linear(hidden_dim // 8, hidden_dim // 16)\n",
    "        self.fc6 = nn.Linear(hidden_dim // 16, output_dim)\n",
    "        \n",
    "\n",
    "        # Dropout layers\n",
    "        self.dropout1 = nn.Dropout(dropout)\n",
    "        self.dropout2 = nn.Dropout(dropout / 2)  # Reduce dropout rate for later layers\n",
    "\n",
    "    def forward(self, x):\n",
    "        x = self.fc1(x)\n",
    "        x = self.activation(x)\n",
    "        x = self.dropout1(x)\n",
    "\n",
    "        x = self.fc2(x)\n",
    "        x = self.activation(x)\n",
    "        x = self.dropout2(x)\n",
    "\n",
    "        x = self.fc3(x)\n",
    "        x = self.activation(x)\n",
    "\n",
    "        x = self.fc4(x) \n",
    "        x = self.activation(x)\n",
    "\n",
    "        x = self.fc5(x)\n",
    "        x = self.activation(x)\n",
    "        \n",
    "        x = self.fc6(x)\n",
    "\n",
    "        return x"
   ]
  },
  {
   "cell_type": "code",
   "execution_count": 42,
   "metadata": {},
   "outputs": [],
   "source": [
    "def train(model, train_loader, optimizer, criterion, epoch, log_interval=50):\n",
    "    model.train()\n",
    "    total_loss = 0\n",
    "    correct = 0\n",
    "    total = 0\n",
    "\n",
    "    for batch_idx, (inputs, target) in enumerate(train_loader):  # ✅ Unpack tuple instead of indexing dict\n",
    "        inputs, target = inputs.cuda(), target.cuda()  # Move to GPU\n",
    "\n",
    "        optimizer.zero_grad()\n",
    "        outputs = model(inputs)\n",
    "        loss = criterion(outputs, target)\n",
    "        loss.backward()\n",
    "        optimizer.step()\n",
    "\n",
    "        total_loss += loss.item()\n",
    "        _, predicted = torch.max(outputs, 1)\n",
    "        total += target.size(0)\n",
    "        correct += (predicted == target).sum().item()\n",
    "\n",
    "        if batch_idx % log_interval == 0:\n",
    "            print(f\"| Epoch [{epoch}] Iter[{batch_idx}/{len(train_loader)}]\\t Loss: {loss.item():.4f} Acc@1: {100. * correct / total:.2f}%\")\n",
    "\n",
    "    return total_loss / len(train_loader), 100. * correct / total\n",
    "\n",
    "\n",
    "def test(model, test_loader, criterion):\n",
    "    model.eval()\n",
    "    total_loss = 0\n",
    "    correct = 0\n",
    "    total = 0\n",
    "\n",
    "    with torch.no_grad():\n",
    "        for inputs, target in test_loader: \n",
    "            inputs, target = inputs.cuda(), target.cuda()\n",
    "            outputs = model(inputs)\n",
    "            loss = criterion(outputs, target)\n",
    "\n",
    "            total_loss += loss.item()\n",
    "            _, predicted = torch.max(outputs, 1)\n",
    "            total += target.size(0)\n",
    "            correct += (predicted == target).sum().item()\n",
    "\n",
    "    accuracy = 100. * correct / total\n",
    "    return total_loss / len(test_loader), accuracy"
   ]
  },
  {
   "cell_type": "code",
   "execution_count": 43,
   "metadata": {},
   "outputs": [],
   "source": [
    "def training_process(df, hidden_dim, learning_rate, batch_size=64, epochs=50, dropout=0.0, activation=\"relu\", optimizer_choice=\"adam\", log_interval=50, patience=5):\n",
    "    # Split the DataFrame into training and testing datasets\n",
    "    train_df, test_df = train_test_split(df, test_size=0.2, random_state=42)\n",
    "\n",
    "    # Create PyTorch datasets and dataloaders\n",
    "    train_dataset = SentimentDataset(train_df)\n",
    "    test_dataset = SentimentDataset(test_df)\n",
    "\n",
    "    train_loader = DataLoader(train_dataset, batch_size=batch_size, shuffle=True)\n",
    "    test_loader = DataLoader(test_dataset, batch_size=batch_size, shuffle=False)\n",
    "\n",
    "    # Initialize model, criterion, and optimizer\n",
    "    device = torch.device(\"cuda\" if torch.cuda.is_available() else \"cpu\")\n",
    "    input_dim = len(df['embeddings'].iloc[0])\n",
    "    output_dim = len(df['sentiment'].unique())\n",
    "\n",
    "    model = BetterMLP(input_dim, hidden_dim, output_dim, dropout, activation).to(device)\n",
    "    criterion = nn.CrossEntropyLoss()\n",
    "\n",
    "    # Optimizer selection\n",
    "    if optimizer_choice == \"adam\":\n",
    "        optimizer = torch.optim.Adam(model.parameters(), lr=learning_rate)\n",
    "    elif optimizer_choice == \"sgd\":\n",
    "        optimizer = torch.optim.SGD(model.parameters(), lr=learning_rate, momentum=0.9)\n",
    "    elif optimizer_choice == \"rmsprop\":\n",
    "        optimizer = torch.optim.RMSprop(model.parameters(), lr=learning_rate)\n",
    "    else:\n",
    "        raise ValueError(\"Invalid optimizer. Choose from 'adam', 'sgd', 'rmsprop'.\")\n",
    "\n",
    "    # Training and testing loop with Early Stopping\n",
    "    best_test_acc = 0\n",
    "    epochs_no_improve = 0\n",
    "\n",
    "    for epoch in range(1, epochs + 1):\n",
    "        train_loss, train_acc = train(model, train_loader, optimizer, criterion, epoch, log_interval)\n",
    "        test_loss, test_acc = test(model, test_loader, criterion)\n",
    "\n",
    "        print(f\"Epoch {epoch}/{epochs} | Train Loss: {train_loss:.4f} Acc: {train_acc:.2f}% | Test Loss: {test_loss:.4f} Acc: {test_acc:.2f}%\")\n",
    "\n",
    "        # Early Stopping\n",
    "        if test_acc > best_test_acc:\n",
    "            best_test_acc = test_acc\n",
    "            epochs_no_improve = 0  # Reset counter\n",
    "        else:\n",
    "            epochs_no_improve += 1\n",
    "\n",
    "        if epochs_no_improve >= patience:\n",
    "            print(f\"Early stopping triggered after {epoch} epochs. Best test accuracy: {best_test_acc:.2f}%\")\n",
    "            break\n",
    "\n",
    "    return model, train_acc, best_test_acc\n"
   ]
  },
  {
   "cell_type": "code",
   "execution_count": 44,
   "metadata": {},
   "outputs": [],
   "source": [
    "def random_search_tuning(df, param_dist, n_iter=20, log_interval=50):\n",
    "    best_model = None\n",
    "    best_accuracy = 0\n",
    "    best_params = None\n",
    "\n",
    "    for i in range(n_iter):\n",
    "        # Randomly sample hyperparameters\n",
    "        params = {key: random.choice(values) for key, values in param_dist.items()}\n",
    "        print(f\"Iteration {i+1}/{n_iter} - Params: {params}\")\n",
    "\n",
    "        # Train and evaluate the model with sampled parameters\n",
    "        model, train_acc, test_acc = training_process(\n",
    "            df,\n",
    "            hidden_dim=params['hidden_dim'],\n",
    "            learning_rate=params['learning_rate'],\n",
    "            batch_size=params['batch_size'],\n",
    "            epochs=params['epochs'],\n",
    "            dropout=params['dropout'],\n",
    "            log_interval=log_interval,\n",
    "            patience=10\n",
    "        )\n",
    "\n",
    "        # Track the best model\n",
    "        if test_acc > best_accuracy:\n",
    "            best_model = model\n",
    "            best_accuracy = test_acc\n",
    "            best_params = params\n",
    "\n",
    "    print(f\"Best Parameters: {best_params}\")\n",
    "    print(f\"Best Test Accuracy: {best_accuracy:.2f}%\")\n",
    "    return best_model, best_params, best_accuracy\n"
   ]
  },
  {
   "cell_type": "code",
   "execution_count": null,
   "metadata": {},
   "outputs": [],
   "source": [
    "# Extended Random Search hyperparameter distribution\n",
    "param_dist = {\n",
    "    'learning_rate': [1e-4, 1e-3, 1e-2],\n",
    "    'hidden_dim': [64, 128, 256],\n",
    "    'batch_size': [32, 64, 128],\n",
    "    'epochs': [10, 20, 50],\n",
    "    'dropout': [0.0, 0.2, 0.5]\n",
    "}\n",
    "\n",
    "\n",
    "# Call the random search function\n",
    "best_model, best_params, best_accuracy = random_search_tuning(df, param_dist, n_iter=10)"
   ]
  },
  {
   "cell_type": "code",
   "execution_count": 45,
   "metadata": {},
   "outputs": [
    {
     "name": "stdout",
     "output_type": "stream",
     "text": [
      "| Epoch [1] Iter[0/388]\t Loss: 1.1124 Acc@1: 29.69%\n",
      "| Epoch [1] Iter[50/388]\t Loss: 1.0640 Acc@1: 40.56%\n",
      "| Epoch [1] Iter[100/388]\t Loss: 1.0789 Acc@1: 40.84%\n",
      "| Epoch [1] Iter[150/388]\t Loss: 1.0810 Acc@1: 40.94%\n",
      "| Epoch [1] Iter[200/388]\t Loss: 1.0461 Acc@1: 40.61%\n",
      "| Epoch [1] Iter[250/388]\t Loss: 0.9532 Acc@1: 41.10%\n",
      "| Epoch [1] Iter[300/388]\t Loss: 0.9665 Acc@1: 41.99%\n",
      "| Epoch [1] Iter[350/388]\t Loss: 1.0035 Acc@1: 42.97%\n",
      "Epoch 1/50 | Train Loss: 1.0479 Acc: 43.65% | Test Loss: 0.9469 Acc: 53.41%\n",
      "| Epoch [2] Iter[0/388]\t Loss: 0.9392 Acc@1: 54.69%\n",
      "| Epoch [2] Iter[50/388]\t Loss: 0.9564 Acc@1: 51.32%\n",
      "| Epoch [2] Iter[100/388]\t Loss: 0.9537 Acc@1: 52.82%\n",
      "| Epoch [2] Iter[150/388]\t Loss: 0.9854 Acc@1: 52.77%\n",
      "| Epoch [2] Iter[200/388]\t Loss: 0.9071 Acc@1: 53.05%\n",
      "| Epoch [2] Iter[250/388]\t Loss: 0.9445 Acc@1: 53.31%\n",
      "| Epoch [2] Iter[300/388]\t Loss: 0.9495 Acc@1: 53.49%\n",
      "| Epoch [2] Iter[350/388]\t Loss: 0.9701 Acc@1: 54.04%\n",
      "Epoch 2/50 | Train Loss: 0.9349 Acc: 54.28% | Test Loss: 0.9125 Acc: 56.91%\n",
      "| Epoch [3] Iter[0/388]\t Loss: 0.8342 Acc@1: 64.06%\n",
      "| Epoch [3] Iter[50/388]\t Loss: 1.0361 Acc@1: 58.00%\n",
      "| Epoch [3] Iter[100/388]\t Loss: 0.9316 Acc@1: 58.15%\n",
      "| Epoch [3] Iter[150/388]\t Loss: 0.9102 Acc@1: 58.07%\n",
      "| Epoch [3] Iter[200/388]\t Loss: 0.7441 Acc@1: 57.63%\n",
      "| Epoch [3] Iter[250/388]\t Loss: 0.9277 Acc@1: 57.59%\n",
      "| Epoch [3] Iter[300/388]\t Loss: 0.9606 Acc@1: 57.59%\n",
      "| Epoch [3] Iter[350/388]\t Loss: 0.8618 Acc@1: 57.63%\n",
      "Epoch 3/50 | Train Loss: 0.8927 Acc: 57.86% | Test Loss: 0.8843 Acc: 57.49%\n",
      "| Epoch [4] Iter[0/388]\t Loss: 0.7978 Acc@1: 67.19%\n",
      "| Epoch [4] Iter[50/388]\t Loss: 0.8203 Acc@1: 60.17%\n",
      "| Epoch [4] Iter[100/388]\t Loss: 0.8970 Acc@1: 59.76%\n",
      "| Epoch [4] Iter[150/388]\t Loss: 0.9337 Acc@1: 59.10%\n",
      "| Epoch [4] Iter[200/388]\t Loss: 0.7970 Acc@1: 59.24%\n",
      "| Epoch [4] Iter[250/388]\t Loss: 0.9683 Acc@1: 58.83%\n",
      "| Epoch [4] Iter[300/388]\t Loss: 0.9658 Acc@1: 58.57%\n",
      "| Epoch [4] Iter[350/388]\t Loss: 0.9264 Acc@1: 58.40%\n",
      "Epoch 4/50 | Train Loss: 0.8806 Acc: 58.57% | Test Loss: 0.8472 Acc: 59.97%\n",
      "| Epoch [5] Iter[0/388]\t Loss: 0.8629 Acc@1: 64.06%\n",
      "| Epoch [5] Iter[50/388]\t Loss: 0.8523 Acc@1: 59.87%\n",
      "| Epoch [5] Iter[100/388]\t Loss: 0.8254 Acc@1: 59.53%\n",
      "| Epoch [5] Iter[150/388]\t Loss: 0.8567 Acc@1: 58.93%\n",
      "| Epoch [5] Iter[200/388]\t Loss: 0.7751 Acc@1: 58.90%\n",
      "| Epoch [5] Iter[250/388]\t Loss: 0.8266 Acc@1: 59.13%\n",
      "| Epoch [5] Iter[300/388]\t Loss: 0.9955 Acc@1: 58.85%\n",
      "| Epoch [5] Iter[350/388]\t Loss: 1.0260 Acc@1: 58.79%\n",
      "Epoch 5/50 | Train Loss: 0.8744 Acc: 59.01% | Test Loss: 0.8742 Acc: 58.65%\n",
      "| Epoch [6] Iter[0/388]\t Loss: 0.9207 Acc@1: 56.25%\n",
      "| Epoch [6] Iter[50/388]\t Loss: 0.9632 Acc@1: 60.75%\n",
      "| Epoch [6] Iter[100/388]\t Loss: 0.9453 Acc@1: 60.21%\n",
      "| Epoch [6] Iter[150/388]\t Loss: 0.7344 Acc@1: 59.83%\n",
      "| Epoch [6] Iter[200/388]\t Loss: 0.8093 Acc@1: 59.54%\n",
      "| Epoch [6] Iter[250/388]\t Loss: 0.6464 Acc@1: 59.99%\n",
      "| Epoch [6] Iter[300/388]\t Loss: 0.8067 Acc@1: 59.84%\n",
      "| Epoch [6] Iter[350/388]\t Loss: 0.9254 Acc@1: 59.90%\n",
      "Epoch 6/50 | Train Loss: 0.8656 Acc: 59.86% | Test Loss: 0.8536 Acc: 59.97%\n",
      "| Epoch [7] Iter[0/388]\t Loss: 0.7692 Acc@1: 70.31%\n",
      "| Epoch [7] Iter[50/388]\t Loss: 0.7871 Acc@1: 59.59%\n",
      "| Epoch [7] Iter[100/388]\t Loss: 0.8037 Acc@1: 59.17%\n",
      "| Epoch [7] Iter[150/388]\t Loss: 0.8887 Acc@1: 59.78%\n",
      "| Epoch [7] Iter[200/388]\t Loss: 0.8563 Acc@1: 60.10%\n",
      "| Epoch [7] Iter[250/388]\t Loss: 0.8830 Acc@1: 59.96%\n",
      "| Epoch [7] Iter[300/388]\t Loss: 0.7643 Acc@1: 60.01%\n",
      "| Epoch [7] Iter[350/388]\t Loss: 0.7806 Acc@1: 60.41%\n",
      "Epoch 7/50 | Train Loss: 0.8570 Acc: 60.43% | Test Loss: 0.8562 Acc: 59.84%\n",
      "| Epoch [8] Iter[0/388]\t Loss: 0.9669 Acc@1: 54.69%\n",
      "| Epoch [8] Iter[50/388]\t Loss: 1.0253 Acc@1: 59.74%\n",
      "| Epoch [8] Iter[100/388]\t Loss: 0.8206 Acc@1: 60.16%\n",
      "| Epoch [8] Iter[150/388]\t Loss: 0.9985 Acc@1: 60.50%\n",
      "| Epoch [8] Iter[200/388]\t Loss: 0.9034 Acc@1: 60.72%\n",
      "| Epoch [8] Iter[250/388]\t Loss: 0.8642 Acc@1: 60.88%\n",
      "| Epoch [8] Iter[300/388]\t Loss: 0.8529 Acc@1: 60.87%\n",
      "| Epoch [8] Iter[350/388]\t Loss: 0.6881 Acc@1: 60.85%\n",
      "Epoch 8/50 | Train Loss: 0.8528 Acc: 60.85% | Test Loss: 0.8443 Acc: 60.65%\n",
      "| Epoch [9] Iter[0/388]\t Loss: 0.6322 Acc@1: 79.69%\n",
      "| Epoch [9] Iter[50/388]\t Loss: 0.8055 Acc@1: 61.31%\n",
      "| Epoch [9] Iter[100/388]\t Loss: 0.9424 Acc@1: 60.66%\n",
      "| Epoch [9] Iter[150/388]\t Loss: 0.9277 Acc@1: 60.53%\n",
      "| Epoch [9] Iter[200/388]\t Loss: 0.9509 Acc@1: 60.21%\n",
      "| Epoch [9] Iter[250/388]\t Loss: 0.8806 Acc@1: 60.33%\n",
      "| Epoch [9] Iter[300/388]\t Loss: 0.9171 Acc@1: 60.17%\n",
      "| Epoch [9] Iter[350/388]\t Loss: 0.8500 Acc@1: 60.48%\n",
      "Epoch 9/50 | Train Loss: 0.8580 Acc: 60.49% | Test Loss: 0.8383 Acc: 60.92%\n",
      "| Epoch [10] Iter[0/388]\t Loss: 0.6800 Acc@1: 79.69%\n",
      "| Epoch [10] Iter[50/388]\t Loss: 0.7011 Acc@1: 62.01%\n",
      "| Epoch [10] Iter[100/388]\t Loss: 0.7982 Acc@1: 61.25%\n",
      "| Epoch [10] Iter[150/388]\t Loss: 0.7810 Acc@1: 61.04%\n",
      "| Epoch [10] Iter[200/388]\t Loss: 0.7471 Acc@1: 61.12%\n",
      "| Epoch [10] Iter[250/388]\t Loss: 0.8415 Acc@1: 60.95%\n",
      "| Epoch [10] Iter[300/388]\t Loss: 0.7375 Acc@1: 61.02%\n",
      "| Epoch [10] Iter[350/388]\t Loss: 0.8191 Acc@1: 61.25%\n",
      "Epoch 10/50 | Train Loss: 0.8434 Acc: 61.17% | Test Loss: 0.8387 Acc: 61.12%\n",
      "| Epoch [11] Iter[0/388]\t Loss: 0.6814 Acc@1: 68.75%\n",
      "| Epoch [11] Iter[50/388]\t Loss: 0.8130 Acc@1: 61.55%\n",
      "| Epoch [11] Iter[100/388]\t Loss: 0.8358 Acc@1: 61.36%\n",
      "| Epoch [11] Iter[150/388]\t Loss: 0.9487 Acc@1: 61.55%\n",
      "| Epoch [11] Iter[200/388]\t Loss: 0.9739 Acc@1: 61.41%\n",
      "| Epoch [11] Iter[250/388]\t Loss: 0.8520 Acc@1: 61.31%\n",
      "| Epoch [11] Iter[300/388]\t Loss: 0.8862 Acc@1: 61.08%\n",
      "| Epoch [11] Iter[350/388]\t Loss: 0.8830 Acc@1: 61.19%\n",
      "Epoch 11/50 | Train Loss: 0.8439 Acc: 61.41% | Test Loss: 0.8276 Acc: 61.18%\n",
      "| Epoch [12] Iter[0/388]\t Loss: 0.8413 Acc@1: 64.06%\n",
      "| Epoch [12] Iter[50/388]\t Loss: 0.8310 Acc@1: 61.95%\n",
      "| Epoch [12] Iter[100/388]\t Loss: 0.8809 Acc@1: 62.11%\n",
      "| Epoch [12] Iter[150/388]\t Loss: 0.7461 Acc@1: 61.86%\n",
      "| Epoch [12] Iter[200/388]\t Loss: 0.8518 Acc@1: 61.54%\n",
      "| Epoch [12] Iter[250/388]\t Loss: 0.7596 Acc@1: 61.36%\n",
      "| Epoch [12] Iter[300/388]\t Loss: 0.9227 Acc@1: 61.37%\n",
      "| Epoch [12] Iter[350/388]\t Loss: 0.6827 Acc@1: 61.24%\n",
      "Epoch 12/50 | Train Loss: 0.8434 Acc: 61.15% | Test Loss: 0.8287 Acc: 61.47%\n",
      "| Epoch [13] Iter[0/388]\t Loss: 0.8168 Acc@1: 60.94%\n",
      "| Epoch [13] Iter[50/388]\t Loss: 0.7354 Acc@1: 62.71%\n",
      "| Epoch [13] Iter[100/388]\t Loss: 0.7087 Acc@1: 62.65%\n",
      "| Epoch [13] Iter[150/388]\t Loss: 0.7756 Acc@1: 62.23%\n",
      "| Epoch [13] Iter[200/388]\t Loss: 0.9684 Acc@1: 61.70%\n",
      "| Epoch [13] Iter[250/388]\t Loss: 0.7801 Acc@1: 61.62%\n",
      "| Epoch [13] Iter[300/388]\t Loss: 0.8453 Acc@1: 61.67%\n",
      "| Epoch [13] Iter[350/388]\t Loss: 0.8396 Acc@1: 61.49%\n",
      "Epoch 13/50 | Train Loss: 0.8404 Acc: 61.48% | Test Loss: 0.8293 Acc: 61.68%\n",
      "| Epoch [14] Iter[0/388]\t Loss: 0.9469 Acc@1: 59.38%\n",
      "| Epoch [14] Iter[50/388]\t Loss: 0.8361 Acc@1: 62.04%\n",
      "| Epoch [14] Iter[100/388]\t Loss: 0.7760 Acc@1: 61.82%\n",
      "| Epoch [14] Iter[150/388]\t Loss: 0.8583 Acc@1: 62.28%\n",
      "| Epoch [14] Iter[200/388]\t Loss: 0.9285 Acc@1: 62.21%\n",
      "| Epoch [14] Iter[250/388]\t Loss: 0.9209 Acc@1: 61.98%\n",
      "| Epoch [14] Iter[300/388]\t Loss: 0.9587 Acc@1: 61.73%\n",
      "| Epoch [14] Iter[350/388]\t Loss: 0.8358 Acc@1: 61.71%\n",
      "Epoch 14/50 | Train Loss: 0.8353 Acc: 61.67% | Test Loss: 0.8338 Acc: 61.53%\n",
      "| Epoch [15] Iter[0/388]\t Loss: 0.8150 Acc@1: 65.62%\n",
      "| Epoch [15] Iter[50/388]\t Loss: 0.7241 Acc@1: 62.65%\n",
      "| Epoch [15] Iter[100/388]\t Loss: 0.8223 Acc@1: 62.76%\n",
      "| Epoch [15] Iter[150/388]\t Loss: 0.7585 Acc@1: 62.73%\n",
      "| Epoch [15] Iter[200/388]\t Loss: 0.8830 Acc@1: 62.40%\n",
      "| Epoch [15] Iter[250/388]\t Loss: 0.7418 Acc@1: 62.15%\n",
      "| Epoch [15] Iter[300/388]\t Loss: 0.9102 Acc@1: 61.92%\n",
      "| Epoch [15] Iter[350/388]\t Loss: 0.8441 Acc@1: 61.91%\n",
      "Epoch 15/50 | Train Loss: 0.8326 Acc: 62.03% | Test Loss: 0.8134 Acc: 62.34%\n",
      "| Epoch [16] Iter[0/388]\t Loss: 0.9100 Acc@1: 53.12%\n",
      "| Epoch [16] Iter[50/388]\t Loss: 0.7737 Acc@1: 62.41%\n",
      "| Epoch [16] Iter[100/388]\t Loss: 0.7955 Acc@1: 62.36%\n",
      "| Epoch [16] Iter[150/388]\t Loss: 0.8513 Acc@1: 62.51%\n",
      "| Epoch [16] Iter[200/388]\t Loss: 0.8435 Acc@1: 62.69%\n",
      "| Epoch [16] Iter[250/388]\t Loss: 0.8622 Acc@1: 61.99%\n",
      "| Epoch [16] Iter[300/388]\t Loss: 0.7415 Acc@1: 62.04%\n",
      "| Epoch [16] Iter[350/388]\t Loss: 0.8775 Acc@1: 61.97%\n",
      "Epoch 16/50 | Train Loss: 0.8329 Acc: 61.84% | Test Loss: 0.8259 Acc: 61.71%\n",
      "| Epoch [17] Iter[0/388]\t Loss: 0.8406 Acc@1: 56.25%\n",
      "| Epoch [17] Iter[50/388]\t Loss: 0.9371 Acc@1: 60.75%\n",
      "| Epoch [17] Iter[100/388]\t Loss: 0.7553 Acc@1: 62.18%\n",
      "| Epoch [17] Iter[150/388]\t Loss: 0.9572 Acc@1: 61.64%\n",
      "| Epoch [17] Iter[200/388]\t Loss: 0.7857 Acc@1: 61.75%\n",
      "| Epoch [17] Iter[250/388]\t Loss: 0.7616 Acc@1: 61.73%\n",
      "| Epoch [17] Iter[300/388]\t Loss: 0.8032 Acc@1: 61.92%\n",
      "| Epoch [17] Iter[350/388]\t Loss: 0.9997 Acc@1: 61.91%\n",
      "Epoch 17/50 | Train Loss: 0.8305 Acc: 61.94% | Test Loss: 0.8281 Acc: 61.92%\n",
      "| Epoch [18] Iter[0/388]\t Loss: 0.8347 Acc@1: 62.50%\n",
      "| Epoch [18] Iter[50/388]\t Loss: 0.7501 Acc@1: 60.72%\n",
      "| Epoch [18] Iter[100/388]\t Loss: 0.7956 Acc@1: 61.73%\n",
      "| Epoch [18] Iter[150/388]\t Loss: 0.9138 Acc@1: 62.08%\n",
      "| Epoch [18] Iter[200/388]\t Loss: 0.7004 Acc@1: 62.05%\n",
      "| Epoch [18] Iter[250/388]\t Loss: 0.8131 Acc@1: 61.96%\n",
      "| Epoch [18] Iter[300/388]\t Loss: 0.8026 Acc@1: 62.43%\n",
      "| Epoch [18] Iter[350/388]\t Loss: 0.7460 Acc@1: 62.14%\n",
      "Epoch 18/50 | Train Loss: 0.8297 Acc: 62.16% | Test Loss: 0.8339 Acc: 61.33%\n",
      "| Epoch [19] Iter[0/388]\t Loss: 0.8239 Acc@1: 65.62%\n",
      "| Epoch [19] Iter[50/388]\t Loss: 0.8400 Acc@1: 61.98%\n",
      "| Epoch [19] Iter[100/388]\t Loss: 0.7886 Acc@1: 62.52%\n",
      "| Epoch [19] Iter[150/388]\t Loss: 0.8907 Acc@1: 62.86%\n",
      "| Epoch [19] Iter[200/388]\t Loss: 0.7913 Acc@1: 63.18%\n",
      "| Epoch [19] Iter[250/388]\t Loss: 0.9521 Acc@1: 62.96%\n",
      "| Epoch [19] Iter[300/388]\t Loss: 0.8758 Acc@1: 62.92%\n",
      "| Epoch [19] Iter[350/388]\t Loss: 0.7761 Acc@1: 62.93%\n",
      "Epoch 19/50 | Train Loss: 0.8237 Acc: 62.96% | Test Loss: 0.8162 Acc: 62.52%\n",
      "| Epoch [20] Iter[0/388]\t Loss: 0.6839 Acc@1: 68.75%\n",
      "| Epoch [20] Iter[50/388]\t Loss: 0.8423 Acc@1: 62.84%\n",
      "| Epoch [20] Iter[100/388]\t Loss: 0.8418 Acc@1: 62.95%\n",
      "| Epoch [20] Iter[150/388]\t Loss: 0.8379 Acc@1: 62.20%\n",
      "| Epoch [20] Iter[200/388]\t Loss: 0.7702 Acc@1: 62.65%\n",
      "| Epoch [20] Iter[250/388]\t Loss: 0.8497 Acc@1: 62.54%\n",
      "| Epoch [20] Iter[300/388]\t Loss: 0.7219 Acc@1: 62.54%\n",
      "| Epoch [20] Iter[350/388]\t Loss: 1.0099 Acc@1: 62.47%\n",
      "Epoch 20/50 | Train Loss: 0.8277 Acc: 62.52% | Test Loss: 0.8292 Acc: 61.57%\n",
      "| Epoch [21] Iter[0/388]\t Loss: 0.7775 Acc@1: 67.19%\n",
      "| Epoch [21] Iter[50/388]\t Loss: 0.7663 Acc@1: 63.60%\n",
      "| Epoch [21] Iter[100/388]\t Loss: 0.9595 Acc@1: 62.14%\n",
      "| Epoch [21] Iter[150/388]\t Loss: 0.7290 Acc@1: 62.37%\n",
      "| Epoch [21] Iter[200/388]\t Loss: 0.9337 Acc@1: 62.61%\n",
      "| Epoch [21] Iter[250/388]\t Loss: 0.9252 Acc@1: 62.72%\n",
      "| Epoch [21] Iter[300/388]\t Loss: 0.7407 Acc@1: 62.47%\n",
      "| Epoch [21] Iter[350/388]\t Loss: 0.7129 Acc@1: 62.69%\n",
      "Epoch 21/50 | Train Loss: 0.8251 Acc: 62.74% | Test Loss: 0.8169 Acc: 62.37%\n",
      "| Epoch [22] Iter[0/388]\t Loss: 0.8259 Acc@1: 64.06%\n",
      "| Epoch [22] Iter[50/388]\t Loss: 0.9801 Acc@1: 62.07%\n",
      "| Epoch [22] Iter[100/388]\t Loss: 0.8204 Acc@1: 62.87%\n",
      "| Epoch [22] Iter[150/388]\t Loss: 0.7058 Acc@1: 63.07%\n",
      "| Epoch [22] Iter[200/388]\t Loss: 0.8212 Acc@1: 62.76%\n",
      "| Epoch [22] Iter[250/388]\t Loss: 0.9208 Acc@1: 62.71%\n",
      "| Epoch [22] Iter[300/388]\t Loss: 0.8863 Acc@1: 62.90%\n",
      "| Epoch [22] Iter[350/388]\t Loss: 0.9372 Acc@1: 62.82%\n",
      "Epoch 22/50 | Train Loss: 0.8223 Acc: 62.83% | Test Loss: 0.8236 Acc: 61.47%\n",
      "| Epoch [23] Iter[0/388]\t Loss: 0.8167 Acc@1: 71.88%\n",
      "| Epoch [23] Iter[50/388]\t Loss: 0.9015 Acc@1: 63.51%\n",
      "| Epoch [23] Iter[100/388]\t Loss: 0.7746 Acc@1: 63.21%\n",
      "| Epoch [23] Iter[150/388]\t Loss: 0.8778 Acc@1: 63.31%\n",
      "| Epoch [23] Iter[200/388]\t Loss: 0.8331 Acc@1: 63.32%\n",
      "| Epoch [23] Iter[250/388]\t Loss: 0.8284 Acc@1: 63.32%\n",
      "| Epoch [23] Iter[300/388]\t Loss: 0.7009 Acc@1: 62.97%\n",
      "| Epoch [23] Iter[350/388]\t Loss: 0.7467 Acc@1: 63.01%\n",
      "Epoch 23/50 | Train Loss: 0.8235 Acc: 62.96% | Test Loss: 0.8130 Acc: 62.13%\n",
      "| Epoch [24] Iter[0/388]\t Loss: 0.8285 Acc@1: 67.19%\n",
      "| Epoch [24] Iter[50/388]\t Loss: 0.8056 Acc@1: 62.38%\n",
      "| Epoch [24] Iter[100/388]\t Loss: 0.8776 Acc@1: 62.52%\n",
      "| Epoch [24] Iter[150/388]\t Loss: 0.7971 Acc@1: 62.27%\n",
      "| Epoch [24] Iter[200/388]\t Loss: 0.8877 Acc@1: 62.16%\n",
      "| Epoch [24] Iter[250/388]\t Loss: 0.8109 Acc@1: 62.56%\n",
      "| Epoch [24] Iter[300/388]\t Loss: 0.6875 Acc@1: 62.68%\n",
      "| Epoch [24] Iter[350/388]\t Loss: 0.9299 Acc@1: 62.71%\n",
      "Epoch 24/50 | Train Loss: 0.8235 Acc: 62.73% | Test Loss: 0.8110 Acc: 62.81%\n",
      "| Epoch [25] Iter[0/388]\t Loss: 0.7221 Acc@1: 68.75%\n",
      "| Epoch [25] Iter[50/388]\t Loss: 0.8341 Acc@1: 63.66%\n",
      "| Epoch [25] Iter[100/388]\t Loss: 0.6199 Acc@1: 64.20%\n",
      "| Epoch [25] Iter[150/388]\t Loss: 0.8251 Acc@1: 63.47%\n",
      "| Epoch [25] Iter[200/388]\t Loss: 0.8417 Acc@1: 63.43%\n",
      "| Epoch [25] Iter[250/388]\t Loss: 0.8991 Acc@1: 63.20%\n",
      "| Epoch [25] Iter[300/388]\t Loss: 0.8343 Acc@1: 63.08%\n",
      "| Epoch [25] Iter[350/388]\t Loss: 0.8679 Acc@1: 62.83%\n",
      "Epoch 25/50 | Train Loss: 0.8173 Acc: 62.95% | Test Loss: 0.8060 Acc: 62.95%\n",
      "| Epoch [26] Iter[0/388]\t Loss: 0.8677 Acc@1: 64.06%\n",
      "| Epoch [26] Iter[50/388]\t Loss: 0.9714 Acc@1: 63.11%\n",
      "| Epoch [26] Iter[100/388]\t Loss: 0.6996 Acc@1: 63.12%\n",
      "| Epoch [26] Iter[150/388]\t Loss: 0.7490 Acc@1: 63.34%\n",
      "| Epoch [26] Iter[200/388]\t Loss: 0.7849 Acc@1: 63.52%\n",
      "| Epoch [26] Iter[250/388]\t Loss: 0.7962 Acc@1: 63.07%\n",
      "| Epoch [26] Iter[300/388]\t Loss: 0.8866 Acc@1: 63.04%\n",
      "| Epoch [26] Iter[350/388]\t Loss: 0.8917 Acc@1: 63.18%\n",
      "Epoch 26/50 | Train Loss: 0.8169 Acc: 62.94% | Test Loss: 0.8067 Acc: 63.10%\n",
      "| Epoch [27] Iter[0/388]\t Loss: 0.6823 Acc@1: 68.75%\n",
      "| Epoch [27] Iter[50/388]\t Loss: 0.9474 Acc@1: 62.29%\n",
      "| Epoch [27] Iter[100/388]\t Loss: 0.8940 Acc@1: 62.70%\n",
      "| Epoch [27] Iter[150/388]\t Loss: 0.8807 Acc@1: 62.93%\n",
      "| Epoch [27] Iter[200/388]\t Loss: 0.7431 Acc@1: 63.22%\n",
      "| Epoch [27] Iter[250/388]\t Loss: 1.0054 Acc@1: 63.04%\n",
      "| Epoch [27] Iter[300/388]\t Loss: 0.8109 Acc@1: 63.10%\n",
      "| Epoch [27] Iter[350/388]\t Loss: 0.8702 Acc@1: 63.12%\n",
      "Epoch 27/50 | Train Loss: 0.8177 Acc: 63.11% | Test Loss: 0.8216 Acc: 61.92%\n",
      "| Epoch [28] Iter[0/388]\t Loss: 0.8136 Acc@1: 67.19%\n",
      "| Epoch [28] Iter[50/388]\t Loss: 0.8694 Acc@1: 63.30%\n",
      "| Epoch [28] Iter[100/388]\t Loss: 0.9504 Acc@1: 63.51%\n",
      "| Epoch [28] Iter[150/388]\t Loss: 0.8281 Acc@1: 63.42%\n",
      "| Epoch [28] Iter[200/388]\t Loss: 0.7529 Acc@1: 63.43%\n",
      "| Epoch [28] Iter[250/388]\t Loss: 0.7771 Acc@1: 63.33%\n",
      "| Epoch [28] Iter[300/388]\t Loss: 0.7969 Acc@1: 63.24%\n",
      "| Epoch [28] Iter[350/388]\t Loss: 0.8111 Acc@1: 63.00%\n",
      "Epoch 28/50 | Train Loss: 0.8191 Acc: 63.02% | Test Loss: 0.8379 Acc: 61.60%\n",
      "| Epoch [29] Iter[0/388]\t Loss: 0.9017 Acc@1: 54.69%\n",
      "| Epoch [29] Iter[50/388]\t Loss: 0.8312 Acc@1: 63.97%\n",
      "| Epoch [29] Iter[100/388]\t Loss: 0.8850 Acc@1: 63.89%\n",
      "| Epoch [29] Iter[150/388]\t Loss: 0.8711 Acc@1: 64.40%\n",
      "| Epoch [29] Iter[200/388]\t Loss: 0.8047 Acc@1: 63.74%\n",
      "| Epoch [29] Iter[250/388]\t Loss: 0.8875 Acc@1: 63.48%\n",
      "| Epoch [29] Iter[300/388]\t Loss: 0.9261 Acc@1: 63.45%\n",
      "| Epoch [29] Iter[350/388]\t Loss: 0.6837 Acc@1: 63.71%\n",
      "Epoch 29/50 | Train Loss: 0.8130 Acc: 63.77% | Test Loss: 0.8156 Acc: 62.23%\n",
      "| Epoch [30] Iter[0/388]\t Loss: 0.9381 Acc@1: 53.12%\n",
      "| Epoch [30] Iter[50/388]\t Loss: 0.8234 Acc@1: 63.51%\n",
      "| Epoch [30] Iter[100/388]\t Loss: 0.8055 Acc@1: 63.85%\n",
      "| Epoch [30] Iter[150/388]\t Loss: 0.7584 Acc@1: 64.15%\n",
      "| Epoch [30] Iter[200/388]\t Loss: 0.7323 Acc@1: 63.87%\n",
      "| Epoch [30] Iter[250/388]\t Loss: 0.7173 Acc@1: 63.68%\n",
      "| Epoch [30] Iter[300/388]\t Loss: 0.8793 Acc@1: 63.62%\n",
      "| Epoch [30] Iter[350/388]\t Loss: 0.8559 Acc@1: 63.49%\n",
      "Epoch 30/50 | Train Loss: 0.8124 Acc: 63.57% | Test Loss: 0.8142 Acc: 63.13%\n",
      "| Epoch [31] Iter[0/388]\t Loss: 0.8457 Acc@1: 62.50%\n",
      "| Epoch [31] Iter[50/388]\t Loss: 0.6262 Acc@1: 65.69%\n",
      "| Epoch [31] Iter[100/388]\t Loss: 0.8428 Acc@1: 63.85%\n",
      "| Epoch [31] Iter[150/388]\t Loss: 0.8007 Acc@1: 63.67%\n",
      "| Epoch [31] Iter[200/388]\t Loss: 0.7874 Acc@1: 63.49%\n",
      "| Epoch [31] Iter[250/388]\t Loss: 0.9221 Acc@1: 63.58%\n",
      "| Epoch [31] Iter[300/388]\t Loss: 0.7097 Acc@1: 63.65%\n",
      "| Epoch [31] Iter[350/388]\t Loss: 0.8871 Acc@1: 63.53%\n",
      "Epoch 31/50 | Train Loss: 0.8112 Acc: 63.46% | Test Loss: 0.8106 Acc: 62.81%\n",
      "| Epoch [32] Iter[0/388]\t Loss: 0.9024 Acc@1: 59.38%\n",
      "| Epoch [32] Iter[50/388]\t Loss: 0.9619 Acc@1: 63.63%\n",
      "| Epoch [32] Iter[100/388]\t Loss: 0.7336 Acc@1: 63.58%\n",
      "| Epoch [32] Iter[150/388]\t Loss: 0.8302 Acc@1: 63.19%\n",
      "| Epoch [32] Iter[200/388]\t Loss: 0.8430 Acc@1: 63.41%\n",
      "| Epoch [32] Iter[250/388]\t Loss: 0.8213 Acc@1: 63.43%\n",
      "| Epoch [32] Iter[300/388]\t Loss: 0.7905 Acc@1: 63.42%\n",
      "| Epoch [32] Iter[350/388]\t Loss: 0.7899 Acc@1: 63.38%\n",
      "Epoch 32/50 | Train Loss: 0.8118 Acc: 63.50% | Test Loss: 0.8200 Acc: 62.24%\n",
      "| Epoch [33] Iter[0/388]\t Loss: 0.7447 Acc@1: 67.19%\n",
      "| Epoch [33] Iter[50/388]\t Loss: 0.7110 Acc@1: 62.47%\n",
      "| Epoch [33] Iter[100/388]\t Loss: 0.8289 Acc@1: 63.01%\n",
      "| Epoch [33] Iter[150/388]\t Loss: 0.7997 Acc@1: 62.94%\n",
      "| Epoch [33] Iter[200/388]\t Loss: 0.9872 Acc@1: 63.27%\n",
      "| Epoch [33] Iter[250/388]\t Loss: 0.7819 Acc@1: 63.51%\n",
      "| Epoch [33] Iter[300/388]\t Loss: 0.8979 Acc@1: 63.45%\n",
      "| Epoch [33] Iter[350/388]\t Loss: 0.8729 Acc@1: 63.55%\n",
      "Epoch 33/50 | Train Loss: 0.8128 Acc: 63.65% | Test Loss: 0.8049 Acc: 63.36%\n",
      "| Epoch [34] Iter[0/388]\t Loss: 0.7686 Acc@1: 60.94%\n",
      "| Epoch [34] Iter[50/388]\t Loss: 0.7762 Acc@1: 63.02%\n",
      "| Epoch [34] Iter[100/388]\t Loss: 0.6881 Acc@1: 62.62%\n",
      "| Epoch [34] Iter[150/388]\t Loss: 0.8721 Acc@1: 62.41%\n",
      "| Epoch [34] Iter[200/388]\t Loss: 0.8708 Acc@1: 62.66%\n",
      "| Epoch [34] Iter[250/388]\t Loss: 0.9319 Acc@1: 62.73%\n",
      "| Epoch [34] Iter[300/388]\t Loss: 0.7031 Acc@1: 62.93%\n",
      "| Epoch [34] Iter[350/388]\t Loss: 0.7559 Acc@1: 62.90%\n",
      "Epoch 34/50 | Train Loss: 0.8120 Acc: 63.02% | Test Loss: 0.8105 Acc: 63.21%\n",
      "| Epoch [35] Iter[0/388]\t Loss: 0.8535 Acc@1: 59.38%\n",
      "| Epoch [35] Iter[50/388]\t Loss: 0.7766 Acc@1: 63.88%\n",
      "| Epoch [35] Iter[100/388]\t Loss: 0.6711 Acc@1: 63.74%\n",
      "| Epoch [35] Iter[150/388]\t Loss: 0.8064 Acc@1: 63.60%\n",
      "| Epoch [35] Iter[200/388]\t Loss: 0.8827 Acc@1: 63.70%\n",
      "| Epoch [35] Iter[250/388]\t Loss: 0.8630 Acc@1: 63.65%\n",
      "| Epoch [35] Iter[300/388]\t Loss: 0.7357 Acc@1: 63.41%\n",
      "| Epoch [35] Iter[350/388]\t Loss: 0.9434 Acc@1: 63.50%\n",
      "Epoch 35/50 | Train Loss: 0.8080 Acc: 63.49% | Test Loss: 0.8686 Acc: 59.26%\n",
      "| Epoch [36] Iter[0/388]\t Loss: 0.7892 Acc@1: 71.88%\n",
      "| Epoch [36] Iter[50/388]\t Loss: 0.7826 Acc@1: 61.37%\n",
      "| Epoch [36] Iter[100/388]\t Loss: 0.7747 Acc@1: 62.21%\n",
      "| Epoch [36] Iter[150/388]\t Loss: 0.6545 Acc@1: 63.23%\n",
      "| Epoch [36] Iter[200/388]\t Loss: 0.8555 Acc@1: 62.97%\n",
      "| Epoch [36] Iter[250/388]\t Loss: 0.6226 Acc@1: 63.28%\n",
      "| Epoch [36] Iter[300/388]\t Loss: 0.7516 Acc@1: 63.31%\n",
      "| Epoch [36] Iter[350/388]\t Loss: 0.8939 Acc@1: 63.01%\n",
      "Epoch 36/50 | Train Loss: 0.8173 Acc: 63.16% | Test Loss: 0.8073 Acc: 63.02%\n",
      "| Epoch [37] Iter[0/388]\t Loss: 0.8628 Acc@1: 59.38%\n",
      "| Epoch [37] Iter[50/388]\t Loss: 0.7877 Acc@1: 62.25%\n",
      "| Epoch [37] Iter[100/388]\t Loss: 0.7951 Acc@1: 61.88%\n",
      "| Epoch [37] Iter[150/388]\t Loss: 0.8514 Acc@1: 62.55%\n",
      "| Epoch [37] Iter[200/388]\t Loss: 0.7659 Acc@1: 62.79%\n",
      "| Epoch [37] Iter[250/388]\t Loss: 0.7364 Acc@1: 63.23%\n",
      "| Epoch [37] Iter[300/388]\t Loss: 0.8802 Acc@1: 63.40%\n",
      "| Epoch [37] Iter[350/388]\t Loss: 0.7394 Acc@1: 63.16%\n",
      "Epoch 37/50 | Train Loss: 0.8137 Acc: 63.25% | Test Loss: 0.8123 Acc: 62.28%\n",
      "| Epoch [38] Iter[0/388]\t Loss: 0.7310 Acc@1: 71.88%\n",
      "| Epoch [38] Iter[50/388]\t Loss: 0.7261 Acc@1: 63.39%\n",
      "| Epoch [38] Iter[100/388]\t Loss: 0.8951 Acc@1: 62.13%\n",
      "| Epoch [38] Iter[150/388]\t Loss: 0.8258 Acc@1: 62.80%\n",
      "| Epoch [38] Iter[200/388]\t Loss: 0.8258 Acc@1: 63.18%\n",
      "| Epoch [38] Iter[250/388]\t Loss: 0.8432 Acc@1: 63.38%\n",
      "| Epoch [38] Iter[300/388]\t Loss: 0.7183 Acc@1: 63.50%\n",
      "| Epoch [38] Iter[350/388]\t Loss: 0.8680 Acc@1: 63.18%\n",
      "Epoch 38/50 | Train Loss: 0.8187 Acc: 63.11% | Test Loss: 0.8119 Acc: 63.16%\n",
      "Early stopping triggered after 38 epochs. Best test accuracy: 63.36%\n"
     ]
    }
   ],
   "source": [
    "model, _, _ = training_process(df, 256, 1e-3, dropout=0.1)"
   ]
  },
  {
   "cell_type": "code",
   "execution_count": 46,
   "metadata": {},
   "outputs": [
    {
     "name": "stdout",
     "output_type": "stream",
     "text": [
      "Exactitude: 63.16%\n",
      "Précision: 64.30%\n",
      "Rappel: 63.16%\n",
      "Score F1: 62.75%\n"
     ]
    }
   ],
   "source": [
    "def evaluate_nn(model, test_loader, device):\n",
    "    model.eval()\n",
    "    y_true, y_pred = [], []\n",
    "\n",
    "    for inputs, target in test_loader: \n",
    "        inputs, target = inputs.cuda(), target.cuda()\n",
    "        outputs = model(inputs)\n",
    "        predictions = torch.argmax(outputs, dim=1)\n",
    "        \n",
    "        y_true.extend(target.cpu().numpy())\n",
    "        y_pred.extend(predictions.cpu().numpy())\n",
    "\n",
    "    report = classification_report(y_true, y_pred, output_dict=True)\n",
    "    \n",
    "    precision = report[\"weighted avg\"][\"precision\"] * 100\n",
    "    recall = report[\"weighted avg\"][\"recall\"] * 100\n",
    "    f1_score = report[\"weighted avg\"][\"f1-score\"] * 100\n",
    "    accuracy = accuracy_score(y_true, y_pred) * 100\n",
    "\n",
    "    return {\n",
    "        \"Exactitude\": f\"{accuracy:.2f}%\",\n",
    "        \"Précision\": f\"{precision:.2f}%\",\n",
    "        \"Rappel\": f\"{recall:.2f}%\",\n",
    "        \"Score F1\": f\"{f1_score:.2f}%\"\n",
    "    }\n",
    "\n",
    "train_df, test_df = train_test_split(df, test_size=0.2, random_state=42)\n",
    "\n",
    "train_dataset = SentimentDataset(train_df)\n",
    "test_dataset = SentimentDataset(test_df)\n",
    "train_loader = DataLoader(train_dataset, batch_size=batch_size, shuffle=True)\n",
    "test_loader = DataLoader(test_dataset, batch_size=batch_size, shuffle=False)\n",
    "metrics = evaluate_nn(model, test_loader, device)\n",
    "for key, value in metrics.items():\n",
    "    print(f\"{key}: {value}\")"
   ]
  },
  {
   "cell_type": "code",
   "execution_count": 47,
   "metadata": {},
   "outputs": [
    {
     "name": "stdout",
     "output_type": "stream",
     "text": [
      "Exactitude: 63.37%\n",
      "Précision: 64.50%\n",
      "Rappel: 63.37%\n",
      "Score F1: 62.90%\n"
     ]
    }
   ],
   "source": [
    "train_df, test_df = train_test_split(df, test_size=0.03, random_state=42)\n",
    "train_dataset = SentimentDataset(train_df)\n",
    "test_dataset = SentimentDataset(test_df)\n",
    "train_loader = DataLoader(train_dataset, batch_size=batch_size, shuffle=True)\n",
    "test_loader = DataLoader(test_dataset, batch_size=batch_size, shuffle=False)\n",
    "metrics = evaluate_nn(model, test_loader, device)\n",
    "for key, value in metrics.items():\n",
    "    print(f\"{key}: {value}\")"
   ]
  },
  {
   "cell_type": "code",
   "execution_count": 49,
   "metadata": {},
   "outputs": [],
   "source": [
    "def k_fold_cross_validation(df, k=5, epochs=10, batch_size=32, learning_rate=1e-3, hidden_dim=128):\n",
    "    device = torch.device(\"cuda\" if torch.cuda.is_available() else \"cpu\")\n",
    "    input_dim = len(df['embeddings'].iloc[0])\n",
    "    output_dim = len(df['sentiment'].unique())\n",
    "\n",
    "    kf = KFold(n_splits=k, shuffle=True, random_state=42)\n",
    "\n",
    "    results = []\n",
    "    for fold, (train_idx, test_idx) in enumerate(kf.split(df)):\n",
    "        print(f\"Fold {fold + 1}/{k}\")\n",
    "\n",
    "        # Create datasets and loaders\n",
    "        train_df = df.iloc[train_idx]\n",
    "        test_df = df.iloc[test_idx]\n",
    "\n",
    "        train_dataset = SentimentDataset(train_df)\n",
    "        test_dataset = SentimentDataset(test_df)\n",
    "\n",
    "        train_loader = DataLoader(train_dataset, batch_size=batch_size, shuffle=True)\n",
    "        test_loader = DataLoader(test_dataset, batch_size=batch_size, shuffle=False)\n",
    "\n",
    "        # Initialize model, criterion, optimizer\n",
    "        model = BetterMLP(input_dim, hidden_dim, output_dim).to(device)\n",
    "        criterion = nn.CrossEntropyLoss()\n",
    "        optimizer = torch.optim.Adam(model.parameters(), lr=learning_rate)\n",
    "\n",
    "        # Train and validate\n",
    "        for epoch in range(1, epochs + 1):\n",
    "            train_loss, train_acc = train(model, train_loader, optimizer, criterion, epoch)\n",
    "            test_loss, test_acc = test(model, test_loader, criterion)\n",
    "            print(f\"Fold {fold + 1} Epoch {epoch} | Train Loss: {train_loss:.4f} Acc: {train_acc:.2f}% | Test Loss: {test_loss:.4f} Acc: {test_acc:.2f}%\")\n",
    "\n",
    "        results.append((train_loss, train_acc, test_loss, test_acc))\n",
    "\n",
    "    return results"
   ]
  },
  {
   "cell_type": "markdown",
   "metadata": {},
   "source": [
    "## et les LLM ?"
   ]
  },
  {
   "cell_type": "code",
   "execution_count": 51,
   "metadata": {},
   "outputs": [
    {
     "data": {
      "text/plain": [
       "(931,)"
      ]
     },
     "execution_count": 51,
     "metadata": {},
     "output_type": "execute_result"
    }
   ],
   "source": [
    "# Making the dataset\n",
    "# We will test he Llama LLM on the same proportion we evaluated our privous best models meaning 0.2 of the data\n",
    "X_text = df['processed_text']\n",
    "y_encoded = df['sentiment']\n",
    "\n",
    "X_train, X_test, y_train, y_test = train_test_split(X_text, y_encoded, test_size=0.03, random_state=42)\n",
    "y_test.shape"
   ]
  },
  {
   "cell_type": "code",
   "execution_count": 52,
   "metadata": {},
   "outputs": [
    {
     "name": "stdout",
     "output_type": "stream",
     "text": [
      "Starting evaluation with 931 sentences.\n",
      "Processed 10/931 sentences...\n",
      "Processed 20/931 sentences...\n",
      "Processed 30/931 sentences...\n",
      "Processed 40/931 sentences...\n",
      "Processed 50/931 sentences...\n",
      "Processed 60/931 sentences...\n",
      "Processed 70/931 sentences...\n",
      "Processed 80/931 sentences...\n",
      "Processed 90/931 sentences...\n",
      "Processed 100/931 sentences...\n",
      "Processed 110/931 sentences...\n",
      "Processed 120/931 sentences...\n",
      "Processed 130/931 sentences...\n",
      "Processed 140/931 sentences...\n",
      "Processed 150/931 sentences...\n",
      "Processed 160/931 sentences...\n",
      "Processed 170/931 sentences...\n",
      "Processed 180/931 sentences...\n",
      "Processed 190/931 sentences...\n",
      "Processed 200/931 sentences...\n",
      "Processed 210/931 sentences...\n",
      "Processed 220/931 sentences...\n",
      "Processed 230/931 sentences...\n",
      "Processed 240/931 sentences...\n",
      "Processed 250/931 sentences...\n",
      "Processed 260/931 sentences...\n",
      "Processed 270/931 sentences...\n",
      "Processed 280/931 sentences...\n",
      "Processed 290/931 sentences...\n",
      "Processed 300/931 sentences...\n",
      "Processed 310/931 sentences...\n",
      "Processed 320/931 sentences...\n",
      "Processed 330/931 sentences...\n",
      "Processed 340/931 sentences...\n",
      "Processed 350/931 sentences...\n",
      "Processed 360/931 sentences...\n",
      "Processed 370/931 sentences...\n",
      "Processed 380/931 sentences...\n",
      "Processed 390/931 sentences...\n",
      "Processed 400/931 sentences...\n",
      "Processed 410/931 sentences...\n",
      "Processed 420/931 sentences...\n",
      "Processed 430/931 sentences...\n",
      "Processed 440/931 sentences...\n",
      "Processed 450/931 sentences...\n",
      "Processed 460/931 sentences...\n",
      "Processed 470/931 sentences...\n",
      "Processed 480/931 sentences...\n",
      "Processed 490/931 sentences...\n",
      "Processed 500/931 sentences...\n",
      "Processed 510/931 sentences...\n",
      "Processed 520/931 sentences...\n",
      "Processed 530/931 sentences...\n",
      "Processed 540/931 sentences...\n",
      "Processed 550/931 sentences...\n",
      "Processed 560/931 sentences...\n",
      "Processed 570/931 sentences...\n",
      "Processed 580/931 sentences...\n",
      "Processed 590/931 sentences...\n",
      "Processed 600/931 sentences...\n",
      "Processed 610/931 sentences...\n",
      "Processed 620/931 sentences...\n",
      "Processed 630/931 sentences...\n",
      "Processed 640/931 sentences...\n",
      "Processed 650/931 sentences...\n",
      "Processed 660/931 sentences...\n",
      "Processed 670/931 sentences...\n",
      "Processed 680/931 sentences...\n",
      "Processed 690/931 sentences...\n",
      "Processed 700/931 sentences...\n",
      "Processed 710/931 sentences...\n",
      "Processed 720/931 sentences...\n",
      "Processed 730/931 sentences...\n",
      "Processed 740/931 sentences...\n",
      "Processed 750/931 sentences...\n",
      "Processed 760/931 sentences...\n",
      "Processed 770/931 sentences...\n",
      "Processed 780/931 sentences...\n",
      "Processed 790/931 sentences...\n",
      "Processed 800/931 sentences...\n",
      "Processed 810/931 sentences...\n",
      "Processed 820/931 sentences...\n",
      "Processed 830/931 sentences...\n",
      "Processed 840/931 sentences...\n",
      "Processed 850/931 sentences...\n",
      "Processed 860/931 sentences...\n",
      "Processed 870/931 sentences...\n",
      "Processed 880/931 sentences...\n",
      "Processed 890/931 sentences...\n",
      "Processed 900/931 sentences...\n",
      "Processed 910/931 sentences...\n",
      "Processed 920/931 sentences...\n",
      "Processed 930/931 sentences...\n",
      "Finished processing all sentences. Generating classification report...\n",
      "Exactitude: 39.10%\n",
      "Précision: 36.50%\n",
      "Rappel: 39.10%\n",
      "Score F1: 35.94%\n"
     ]
    }
   ],
   "source": [
    "import ollama\n",
    "from sklearn.metrics import classification_report, accuracy_score\n",
    "\n",
    "def evaluate_ollama_llm(X_test, y_test, label_mapping, model=\"llama3\", log_interval=10):\n",
    "    y_pred = []\n",
    "    total_sentences = len(X_test)\n",
    "\n",
    "    print(f\"Starting evaluation with {total_sentences} sentences.\")\n",
    "\n",
    "    for i, sentence in enumerate(X_test):\n",
    "        response = ollama.chat(\n",
    "            model=model,\n",
    "            messages=[{\"role\": \"user\", \"content\": f\"Classify the sentiment of this sentence as positive, negative, or neutral: '{sentence}'\"}],\n",
    "        )\n",
    "        predicted_label = response[\"message\"][\"content\"].strip().lower()\n",
    "\n",
    "        if \"positive\" in predicted_label:\n",
    "            y_pred.append(label_mapping[\"positive\"])\n",
    "        elif \"negative\" in predicted_label:\n",
    "            y_pred.append(label_mapping[\"negative\"])\n",
    "        else:\n",
    "            y_pred.append(label_mapping[\"neutral\"])\n",
    "\n",
    "        if (i + 1) % log_interval == 0:\n",
    "            print(f\"Processed {i + 1}/{total_sentences} sentences...\")\n",
    "\n",
    "    print(\"Finished processing all sentences. Generating classification report...\")\n",
    "\n",
    "    report = classification_report(y_test, y_pred, output_dict=True)\n",
    "    \n",
    "    precision = report[\"weighted avg\"][\"precision\"] * 100\n",
    "    recall = report[\"weighted avg\"][\"recall\"] * 100\n",
    "    f1_score = report[\"weighted avg\"][\"f1-score\"] * 100\n",
    "    accuracy = accuracy_score(y_test, y_pred) * 100\n",
    "\n",
    "    return {\n",
    "        \"Exactitude\": f\"{accuracy:.2f}%\",\n",
    "        \"Précision\": f\"{precision:.2f}%\",\n",
    "        \"Rappel\": f\"{recall:.2f}%\",\n",
    "        \"Score F1\": f\"{f1_score:.2f}%\"\n",
    "    }\n",
    "\n",
    "# Example Label Mapping\n",
    "label_mapping = {\"positive\": 1, \"negative\": 0, \"neutral\": 2}\n",
    "\n",
    "# Example Usage\n",
    "metrics = evaluate_ollama_llm(X_test, y_test, label_mapping)\n",
    "for key, value in metrics.items():\n",
    "    print(f\"{key}: {value}\")\n"
   ]
  }
 ],
 "metadata": {
  "kernelspec": {
   "display_name": "Python 3",
   "language": "python",
   "name": "python3"
  },
  "language_info": {
   "codemirror_mode": {
    "name": "ipython",
    "version": 3
   },
   "file_extension": ".py",
   "mimetype": "text/x-python",
   "name": "python",
   "nbconvert_exporter": "python",
   "pygments_lexer": "ipython3",
   "version": "3.12.0"
  }
 },
 "nbformat": 4,
 "nbformat_minor": 2
}
